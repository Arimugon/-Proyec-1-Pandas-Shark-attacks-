{
 "cells": [
  {
   "cell_type": "code",
   "execution_count": 199,
   "id": "87c917af",
   "metadata": {},
   "outputs": [
    {
     "data": {
      "text/plain": [
       "'2016.04.18'"
      ]
     },
     "execution_count": 199,
     "metadata": {},
     "output_type": "execute_result"
    }
   ],
   "source": [
    "#creo una funcion para limpiar los date\n",
    "patron='\\d+.\\d+.\\d+'\n",
    "def timebad(x):\n",
    "    cont=0\n",
    "    num=re.findall(patron,x)\n",
    "    num=''.join(num)\n",
    "    if num=='':\n",
    "        cont=0\n",
    "        \n",
    "    elif num in x:\n",
    "        cont+=1\n",
    "        \n",
    "    if cont==0:\n",
    "        return 'unknown'\n",
    "    elif cont==1:\n",
    "        return str(num)"
   ]
  },
  {
   "cell_type": "code",
   "execution_count": 232,
   "id": "7ae20f37",
   "metadata": {},
   "outputs": [],
   "source": [
    "def years(x):\n",
    "        if x=='0.0':\n",
    "            return 'unkwnon'\n",
    "        else:\n",
    "            return x\n",
    "    \n",
    "    "
   ]
  },
  {
   "cell_type": "code",
   "execution_count": 236,
   "id": "4f940b8a",
   "metadata": {},
   "outputs": [
    {
     "data": {
      "text/plain": [
       "'2345'"
      ]
     },
     "execution_count": 236,
     "metadata": {},
     "output_type": "execute_result"
    }
   ],
   "source": [
    "years('2345')"
   ]
  },
  {
   "cell_type": "code",
   "execution_count": 235,
   "id": "18976e7e",
   "metadata": {},
   "outputs": [
    {
     "data": {
      "text/plain": [
       "True"
      ]
     },
     "execution_count": 235,
     "metadata": {},
     "output_type": "execute_result"
    }
   ],
   "source": [
    "'http://sharkattackfile.net/spreadsheets/pdf_directory/2017.06.18.a-Reunion.pdf'=='http://sharkattackfile.net/spreadsheets/pdf_directory/2017.06.18.a-Reunion.pdf'"
   ]
  },
  {
   "cell_type": "code",
   "execution_count": 4,
   "id": "d609f75c",
   "metadata": {},
   "outputs": [
    {
     "ename": "SyntaxError",
     "evalue": "invalid syntax (1924026427.py, line 2)",
     "output_type": "error",
     "traceback": [
      "\u001b[1;36m  Input \u001b[1;32mIn [4]\u001b[1;36m\u001b[0m\n\u001b[1;33m    if x in '(x)s'\u001b[0m\n\u001b[1;37m                  ^\u001b[0m\n\u001b[1;31mSyntaxError\u001b[0m\u001b[1;31m:\u001b[0m invalid syntax\n"
     ]
    }
   ],
   "source": [
    "def edades(x):\n",
    "    if x in ^https?://\n",
    "        return '(x)'\n",
    "\n",
    "\n",
    "\n",
    "    import re\n",
    "\n",
    "for line in re.findall(\"From:.*\", fh):\n",
    "    print(line)\n",
    " \n"
   ]
  },
  {
   "cell_type": "code",
   "execution_count": 5,
   "id": "e385e81f",
   "metadata": {},
   "outputs": [
    {
     "ename": "NameError",
     "evalue": "name 'edades' is not defined",
     "output_type": "error",
     "traceback": [
      "\u001b[1;31m---------------------------------------------------------------------------\u001b[0m",
      "\u001b[1;31mNameError\u001b[0m                                 Traceback (most recent call last)",
      "Input \u001b[1;32mIn [5]\u001b[0m, in \u001b[0;36m<cell line: 1>\u001b[1;34m()\u001b[0m\n\u001b[1;32m----> 1\u001b[0m \u001b[43medades\u001b[49m(\u001b[38;5;124m'\u001b[39m\u001b[38;5;124m20s\u001b[39m\u001b[38;5;124m'\u001b[39m)\n",
      "\u001b[1;31mNameError\u001b[0m: name 'edades' is not defined"
     ]
    }
   ],
   "source": [
    "edades('20s')"
   ]
  },
  {
   "cell_type": "code",
   "execution_count": 176,
   "id": "0bc239b2",
   "metadata": {},
   "outputs": [],
   "source": [
    "array(['57', '11', '48', nan, '18', '52', '15', '12', '32', '10', '21',\n",
    "       '34', '30', '60', '33', '29', '54', '41', '37', '56', '19', '25',\n",
    "       '69', '38', '55', '35', '46', '45', '14', '40s', '28', '20', '24',\n",
    "       '26', '49', '22', '7', '31', '17', '40', '13', '42', '3', '8',\n",
    "       '50', '16', '82', '73', '20s', '68', '51', '39', '58', 'Teen',\n",
    "       '47', '61', '65', '36', '66', '43', '60s', '9', '72', '59', '6',\n",
    "       '27', '64', '23', '71', '44', '62', '63', '70', '18 months', '53',\n",
    "       '30s', '50s', 'teen', '77', '74', '28 & 26', '5', '86', '18 or 20',\n",
    "       '12 or 13', '46 & 34', '28, 23 & 30', 'Teens', '36 & 26',\n",
    "       '8 or 10', '84', '� ', ' ', '30 or 36', '6�', '21 & ?', '75',\n",
    "       '33 or 37', 'mid-30s', '23 & 20', ' 30', '7      &    31', ' 28',\n",
    "       '20?', \"60's\", '32 & 30', '16 to 18', '87', '67', 'Elderly',\n",
    "       'mid-20s', 'Ca. 33', '74 ', '45 ', '21 or 26', '20 ', '>50',\n",
    "       '18 to 22', 'adult', '9 & 12', '? & 19', '9 months', '25 to 35',\n",
    "       '23 & 26', '1', '(adult)', '33 & 37', '25 or 28',\n",
    "       '37, 67, 35, 27,  ? & 27', '21, 34,24 & 35', '30 & 32', '50 & 30',\n",
    "       '17 & 35', 'X', '\"middle-age\"', '13 or 18', '34 & 19', '33 & 26',\n",
    "       '2 to 3 months', 'MAKE LINE GREEN', ' 43', '81', '\"young\"',\n",
    "       '7 or 8', '78', '17 & 16', 'F', 'Both 11', '9 or 10', 'young',\n",
    "       '36 & 23', '  ', 'A.M.', '?    &   14', '10 or 12', '31 or 33',\n",
    "       '2�', '13 or 14'], dtype=object)"
   ]
  },
  {
   "cell_type": "code",
   "execution_count": null,
   "id": "55b42679",
   "metadata": {},
   "outputs": [],
   "source": []
  },
  {
   "cell_type": "code",
   "execution_count": null,
   "id": "c5195610",
   "metadata": {},
   "outputs": [],
   "source": [
    "\n",
    "    "
   ]
  },
  {
   "cell_type": "code",
   "execution_count": null,
   "id": "d5200f32",
   "metadata": {},
   "outputs": [],
   "source": [
    "sss.fatality.replace(['N','Y','M','UNKNOWN','2017',' N','N ','y'],\n",
    "                ['N','Y','UNKNOWN','UNKNOWN','UNKNOWN','N','N','Y'], inplace=True)\n"
   ]
  },
  {
   "cell_type": "code",
   "execution_count": 20,
   "id": "807e8bf8",
   "metadata": {},
   "outputs": [],
   "source": [
    "import re\n",
    "def apuff(x):\n",
    "\n",
    "    x=x.lower()\n",
    "    if re.search(\"\\d+h\\d+\",str(x)):\n",
    "        return x\n",
    "    elif \"after\"in x:\n",
    "        return \"18h00\"\n",
    "    elif \"night\" or \"dark\"in x:\n",
    "        return \"21h00\"\n",
    "    elif \"morning\" in x:\n",
    "        return \"09h00\"\n",
    "    elif \"midday\"in x:\n",
    "        return \"12h00\"\n",
    "    elif \"unknown\" in x:\n",
    "        return \"Unknown\"\n",
    "    else:\n",
    "        return 'Unknown'"
   ]
  },
  {
   "cell_type": "code",
   "execution_count": 21,
   "id": "aa9460a7",
   "metadata": {},
   "outputs": [
    {
     "data": {
      "text/plain": [
       "'21h00'"
      ]
     },
     "execution_count": 21,
     "metadata": {},
     "output_type": "execute_result"
    }
   ],
   "source": [
    "apuff('morning')"
   ]
  },
  {
   "cell_type": "code",
   "execution_count": null,
   "id": "07551f60",
   "metadata": {},
   "outputs": [],
   "source": [
    "dicc_injurys = {\"No Injury\":re.search(\"*[Nn](oO).*\",str(x)),\n",
    "                    \"Minor Injury\":re.search(\"*[Mm](inor|INOR).*\",str(x)),\n",
    "                    \"Fatal\":re.search(\".*[Ff](atal|ATAL).*\",str(x)),\n",
    "                    \"Injury in  leg\":re.search(\"*[Ii](njury|NJURY).*\"and\".*[Ll](eg|EG).*\",str(x)),\n",
    "                    \"Injury in hand\":re.search(\"*[Ii](njury|NJURY).*\"and\"[Hh](and|AND)\",str(x)),\n",
    "                    \"Laceration\":re.search(\".*[Ll](aceration|ACERACION).*\" or \"*[Aa](brasion|BRASION).*\",str(x)),\n",
    "                    \"Cuts\":re.search(\".*[Cc](uts|UTS).*\",str(x)),\n",
    "                    \"Injury in arm\":re.search(\"*[Ii](njury|NJURY).*\" and \"*[Aa](rm|RM).*\",str(x)),\n",
    "                    \"Injury in ankle\":re.search(\"*[Ii](njury|NJURY).*\" and \"*[Aa](nkle|nkle).*\",str(x)),\n",
    "                    \"Injury in foot\":re.search(\"*[Ii](njury|NJURY).*\" and \"*[Ff](oot|OOT).*\",str(x)),\n",
    "                    \"Injury in calf\":re.search(\"*[Ii](njury|NJURY).*\" and \"*[Cc](alf|ALF).*\",str(x)),\n",
    "                    \"Broken bones \":re.search(\".*[Bb](roken|ROKEN).*\" or \"*[Bb](ones|ONES).*\",str(x)),\n",
    "                    \"Bitten\":re.search(\".*[Bb](itten|ITTEN).*\" or \"*[Bb](ite|ITE).*\"or\"*[Nn](ipped|IPPED).*\",str(x)),\n",
    "                    \"Injury\":re.search(\"*[Ii](njury|NJURY).*\",str(x)),\n",
    "                    \"Puncture wounds\":re.search(\".*[Pp](uncture|UNCTURE).*\",str(x)),\n",
    "                    \"Collision\":re.search(\".*[Cc](ollision|OLLISION).*\" or \"*[Cc](olided|OLIDED).*\",str(x)),\n",
    "                    \"Severe Injury\":re.search(\".*[Ss](evere|EVERE).*\" or \"*[Ss](erius|ERIUS).*\" and \"*[Ii](njury|NJURY).*\",str(x))}\n"
   ]
  },
  {
   "cell_type": "code",
   "execution_count": 49,
   "id": "186516bc",
   "metadata": {},
   "outputs": [],
   "source": [
    "def limpiar_injury(x):\n",
    "    dicc_injurys = {\"No Injury\":re.search(\".*[Nn](o|O)\\s*[Ii](njury|NJURY).*\",str(x)),\n",
    "                    \"Minor Injury\":re.search(\".*[Mm](inor|INOR).*\",str(x)),\n",
    "                    \"Fatal\":re.search(\".*[Ff](atal|ATAL).*\",str(x)),\n",
    "                    \"Cuts\":re.search(\".*[Cc](uts|UTS).*\",str(x)),\n",
    "                    \"Laceration\":re.search(\".*[Ll](aceration|ACERACION).*\" or \".*[Aa](brasion|BRASION).*\",str(x)),\n",
    "                    \"Bitten\":re.search(\".*[Bb](itten|ITTEN).*\" or \".*[Bb](ite|ITE).*\"or\".*[Nn](ipped|IPPED).*\",str(x)),\n",
    "                    \"Puncture wounds\":re.search(\".*[Pp](uncture|UNCTURE).*\",str(x)),\n",
    "                    \"Injury in  leg\":re.search(\".*[Ii](njury|NJURY).*\"and\".*[Ll](eg|EG).*\",str(x)),\n",
    "                    \"Injury in hand\":re.search(\".*[Ii](njury|NJURY).*\"and\".*[Hh](and|AND).*\",str(x)),\n",
    "                    \"Injury in arm\":re.search(\".*[Ii](njury|NJURY).*\" and \".*[Aa](rm|RM).*\",str(x)),\n",
    "                    \"Injury in ankle\":re.search(\".*[Ii](njury|NJURY).*\" and \".*[Aa](nkle|nkle).*\",str(x)),\n",
    "                    \"Injury in foot\":re.search(\".*[Ii](njury|NJURY).*\" and \".*[Ff](oot|OOT).*\",str(x)),\n",
    "                    \"Injury in calf\":re.search(\".*[Ii](njury|NJURY).*\" and \".*[Cc](alf|ALF).*\",str(x)),\n",
    "                    \"Broken bones \":re.search(\".*[Bb](roken|ROKEN).*\" or \".*[Bb](ones|ONES).*\",str(x)),\n",
    "                    \"Injury\":re.search(\".*[Ii](njury|NJURY).*\",str(x)),\n",
    "                    \"Collision\":re.search(\".*[Cc](ollision|OLLISION).*\" or \".*[Cc](ollided|OLLIDED).*\",str(x)),\n",
    "                    \"Severe Injury\":re.search(\".*[Ss](evere|EVERE).*\" or \".*[Ss](erius|ERIUS).*\" and \".*[Ii](njury|NJURY).*\",str(x))}\n",
    "\n",
    "    \n",
    "    for key,values in dicc_injurys.items():\n",
    "        if values:\n",
    "            return key\n",
    "        \n",
    "    return \"Unknown\""
   ]
  },
  {
   "cell_type": "code",
   "execution_count": 56,
   "id": "1be936bb",
   "metadata": {},
   "outputs": [
    {
     "data": {
      "text/plain": [
       "'Injury in calf'"
      ]
     },
     "execution_count": 56,
     "metadata": {},
     "output_type": "execute_result"
    }
   ],
   "source": [
    "limpiar_injury(' Calf injured')"
   ]
  },
  {
   "cell_type": "code",
   "execution_count": 51,
   "id": "2f7b0759",
   "metadata": {},
   "outputs": [
    {
     "ename": "SyntaxError",
     "evalue": "invalid syntax (4270754629.py, line 1)",
     "output_type": "error",
     "traceback": [
      "\u001b[1;36m  Input \u001b[1;32mIn [51]\u001b[1;36m\u001b[0m\n\u001b[1;33m    No Injury. Shark swam away with the surf board\u001b[0m\n\u001b[1;37m       ^\u001b[0m\n\u001b[1;31mSyntaxError\u001b[0m\u001b[1;31m:\u001b[0m invalid syntax\n"
     ]
    }
   ],
   "source": [
    "o injury, shark took his swimfin\n",
    "51                           Minor injury to left forearm\n",
    "52                                            Foot bitten\n",
    "53                Severe lacerations to left thigh & knee\n",
    "54                                            Foot bitten\n",
    "55               Minor injury to thigh, PROVOKED INCIDENT\n",
    "56                                    Minor injury to arm\n",
    "57                                  Serious injury to leg\n",
    "58                                                  FATAL\n",
    "59                                                  FATAL\n",
    "60                                       Right leg bitten\n",
    "61                                            Heel bitten\n",
    "62                                Puncture wounds to feet\n",
    "63                       Puncture wounds to left shoulder\n",
    "64                                                  FATAL\n",
    "65                                           Calf injured\n",
    "66                                   Minor injury to foot"
   ]
  },
  {
   "cell_type": "code",
   "execution_count": null,
   "id": "d40f6c79",
   "metadata": {},
   "outputs": [],
   "source": []
  }
 ],
 "metadata": {
  "kernelspec": {
   "display_name": "Python 3 (ipykernel)",
   "language": "python",
   "name": "python3"
  },
  "language_info": {
   "codemirror_mode": {
    "name": "ipython",
    "version": 3
   },
   "file_extension": ".py",
   "mimetype": "text/x-python",
   "name": "python",
   "nbconvert_exporter": "python",
   "pygments_lexer": "ipython3",
   "version": "3.9.12"
  }
 },
 "nbformat": 4,
 "nbformat_minor": 5
}
