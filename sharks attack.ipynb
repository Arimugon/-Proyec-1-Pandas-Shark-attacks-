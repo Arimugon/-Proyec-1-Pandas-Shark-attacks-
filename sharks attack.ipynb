{
 "cells": [
  {
   "cell_type": "code",
   "execution_count": 123,
   "id": "f5f6bbca",
   "metadata": {},
   "outputs": [],
   "source": [
    "import pandas as pd\n",
    "import numpy as np\n",
    "import warnings\n",
    "warnings.filterwarnings('ignore')\n",
    "import csv\n",
    "pd.set_option('display.max_rows', None) \n",
    "pd.set_option('display.max_columns', None) \n",
    "import re"
   ]
  },
  {
   "cell_type": "code",
   "execution_count": 124,
   "id": "7ff689b9",
   "metadata": {},
   "outputs": [],
   "source": [
    "sss=pd.read_csv('/Users/Ari/desktop/ironhack/-Proyec-1-Pandas-Shark-attacks-/attacks.csv', encoding_errors='replace')\n",
    "s_original=sss.copy()\n"
   ]
  },
  {
   "cell_type": "markdown",
   "id": "03abbc0c",
   "metadata": {},
   "source": [
    "# 1. LECTURA E INFO DE LA TABLA.\n",
    "\n",
    "Lo primero que realizo es una \"investigación\" rapida sobre la información que me proporciona la tabla para saber que pasos seguir a posteriori.\n"
   ]
  },
  {
   "cell_type": "code",
   "execution_count": 125,
   "id": "c43177a1",
   "metadata": {},
   "outputs": [
    {
     "data": {
      "text/html": [
       "<div>\n",
       "<style scoped>\n",
       "    .dataframe tbody tr th:only-of-type {\n",
       "        vertical-align: middle;\n",
       "    }\n",
       "\n",
       "    .dataframe tbody tr th {\n",
       "        vertical-align: top;\n",
       "    }\n",
       "\n",
       "    .dataframe thead th {\n",
       "        text-align: right;\n",
       "    }\n",
       "</style>\n",
       "<table border=\"1\" class=\"dataframe\">\n",
       "  <thead>\n",
       "    <tr style=\"text-align: right;\">\n",
       "      <th></th>\n",
       "      <th>Case Number</th>\n",
       "      <th>Date</th>\n",
       "      <th>Year</th>\n",
       "      <th>Type</th>\n",
       "      <th>Country</th>\n",
       "      <th>Area</th>\n",
       "      <th>Location</th>\n",
       "      <th>Activity</th>\n",
       "      <th>Name</th>\n",
       "      <th>Sex</th>\n",
       "      <th>Age</th>\n",
       "      <th>Injury</th>\n",
       "      <th>Fatal (Y/N)</th>\n",
       "      <th>Time</th>\n",
       "      <th>Species</th>\n",
       "      <th>Investigator or Source</th>\n",
       "      <th>pdf</th>\n",
       "      <th>href formula</th>\n",
       "      <th>href</th>\n",
       "      <th>Case Number.1</th>\n",
       "      <th>Case Number.2</th>\n",
       "      <th>original order</th>\n",
       "      <th>Unnamed: 22</th>\n",
       "      <th>Unnamed: 23</th>\n",
       "    </tr>\n",
       "  </thead>\n",
       "  <tbody>\n",
       "    <tr>\n",
       "      <th>0</th>\n",
       "      <td>2018.06.25</td>\n",
       "      <td>25-Jun-2018</td>\n",
       "      <td>2018.0</td>\n",
       "      <td>Boating</td>\n",
       "      <td>USA</td>\n",
       "      <td>California</td>\n",
       "      <td>Oceanside, San Diego County</td>\n",
       "      <td>Paddling</td>\n",
       "      <td>Julie Wolfe</td>\n",
       "      <td>F</td>\n",
       "      <td>57</td>\n",
       "      <td>No injury to occupant, outrigger canoe and pad...</td>\n",
       "      <td>N</td>\n",
       "      <td>18h00</td>\n",
       "      <td>White shark</td>\n",
       "      <td>R. Collier, GSAF</td>\n",
       "      <td>2018.06.25-Wolfe.pdf</td>\n",
       "      <td>http://sharkattackfile.net/spreadsheets/pdf_di...</td>\n",
       "      <td>http://sharkattackfile.net/spreadsheets/pdf_di...</td>\n",
       "      <td>2018.06.25</td>\n",
       "      <td>2018.06.25</td>\n",
       "      <td>6303.0</td>\n",
       "      <td>NaN</td>\n",
       "      <td>NaN</td>\n",
       "    </tr>\n",
       "    <tr>\n",
       "      <th>1</th>\n",
       "      <td>2018.06.18</td>\n",
       "      <td>18-Jun-2018</td>\n",
       "      <td>2018.0</td>\n",
       "      <td>Unprovoked</td>\n",
       "      <td>USA</td>\n",
       "      <td>Georgia</td>\n",
       "      <td>St. Simon Island, Glynn County</td>\n",
       "      <td>Standing</td>\n",
       "      <td>Adyson�McNeely</td>\n",
       "      <td>F</td>\n",
       "      <td>11</td>\n",
       "      <td>Minor injury to left thigh</td>\n",
       "      <td>N</td>\n",
       "      <td>14h00  -15h00</td>\n",
       "      <td>NaN</td>\n",
       "      <td>K.McMurray, TrackingSharks.com</td>\n",
       "      <td>2018.06.18-McNeely.pdf</td>\n",
       "      <td>http://sharkattackfile.net/spreadsheets/pdf_di...</td>\n",
       "      <td>http://sharkattackfile.net/spreadsheets/pdf_di...</td>\n",
       "      <td>2018.06.18</td>\n",
       "      <td>2018.06.18</td>\n",
       "      <td>6302.0</td>\n",
       "      <td>NaN</td>\n",
       "      <td>NaN</td>\n",
       "    </tr>\n",
       "    <tr>\n",
       "      <th>2</th>\n",
       "      <td>2018.06.09</td>\n",
       "      <td>09-Jun-2018</td>\n",
       "      <td>2018.0</td>\n",
       "      <td>Invalid</td>\n",
       "      <td>USA</td>\n",
       "      <td>Hawaii</td>\n",
       "      <td>Habush, Oahu</td>\n",
       "      <td>Surfing</td>\n",
       "      <td>John Denges</td>\n",
       "      <td>M</td>\n",
       "      <td>48</td>\n",
       "      <td>Injury to left lower leg from surfboard skeg</td>\n",
       "      <td>N</td>\n",
       "      <td>07h45</td>\n",
       "      <td>NaN</td>\n",
       "      <td>K.McMurray, TrackingSharks.com</td>\n",
       "      <td>2018.06.09-Denges.pdf</td>\n",
       "      <td>http://sharkattackfile.net/spreadsheets/pdf_di...</td>\n",
       "      <td>http://sharkattackfile.net/spreadsheets/pdf_di...</td>\n",
       "      <td>2018.06.09</td>\n",
       "      <td>2018.06.09</td>\n",
       "      <td>6301.0</td>\n",
       "      <td>NaN</td>\n",
       "      <td>NaN</td>\n",
       "    </tr>\n",
       "    <tr>\n",
       "      <th>3</th>\n",
       "      <td>2018.06.08</td>\n",
       "      <td>08-Jun-2018</td>\n",
       "      <td>2018.0</td>\n",
       "      <td>Unprovoked</td>\n",
       "      <td>AUSTRALIA</td>\n",
       "      <td>New South Wales</td>\n",
       "      <td>Arrawarra Headland</td>\n",
       "      <td>Surfing</td>\n",
       "      <td>male</td>\n",
       "      <td>M</td>\n",
       "      <td>NaN</td>\n",
       "      <td>Minor injury to lower leg</td>\n",
       "      <td>N</td>\n",
       "      <td>NaN</td>\n",
       "      <td>2 m shark</td>\n",
       "      <td>B. Myatt, GSAF</td>\n",
       "      <td>2018.06.08-Arrawarra.pdf</td>\n",
       "      <td>http://sharkattackfile.net/spreadsheets/pdf_di...</td>\n",
       "      <td>http://sharkattackfile.net/spreadsheets/pdf_di...</td>\n",
       "      <td>2018.06.08</td>\n",
       "      <td>2018.06.08</td>\n",
       "      <td>6300.0</td>\n",
       "      <td>NaN</td>\n",
       "      <td>NaN</td>\n",
       "    </tr>\n",
       "    <tr>\n",
       "      <th>4</th>\n",
       "      <td>2018.06.04</td>\n",
       "      <td>04-Jun-2018</td>\n",
       "      <td>2018.0</td>\n",
       "      <td>Provoked</td>\n",
       "      <td>MEXICO</td>\n",
       "      <td>Colima</td>\n",
       "      <td>La Ticla</td>\n",
       "      <td>Free diving</td>\n",
       "      <td>Gustavo Ramos</td>\n",
       "      <td>M</td>\n",
       "      <td>NaN</td>\n",
       "      <td>Lacerations to leg &amp; hand shark PROVOKED INCIDENT</td>\n",
       "      <td>N</td>\n",
       "      <td>NaN</td>\n",
       "      <td>Tiger shark, 3m</td>\n",
       "      <td>A .Kipper</td>\n",
       "      <td>2018.06.04-Ramos.pdf</td>\n",
       "      <td>http://sharkattackfile.net/spreadsheets/pdf_di...</td>\n",
       "      <td>http://sharkattackfile.net/spreadsheets/pdf_di...</td>\n",
       "      <td>2018.06.04</td>\n",
       "      <td>2018.06.04</td>\n",
       "      <td>6299.0</td>\n",
       "      <td>NaN</td>\n",
       "      <td>NaN</td>\n",
       "    </tr>\n",
       "  </tbody>\n",
       "</table>\n",
       "</div>"
      ],
      "text/plain": [
       "  Case Number         Date    Year        Type    Country             Area  \\\n",
       "0  2018.06.25  25-Jun-2018  2018.0     Boating        USA       California   \n",
       "1  2018.06.18  18-Jun-2018  2018.0  Unprovoked        USA          Georgia   \n",
       "2  2018.06.09  09-Jun-2018  2018.0     Invalid        USA           Hawaii   \n",
       "3  2018.06.08  08-Jun-2018  2018.0  Unprovoked  AUSTRALIA  New South Wales   \n",
       "4  2018.06.04  04-Jun-2018  2018.0    Provoked     MEXICO           Colima   \n",
       "\n",
       "                         Location     Activity             Name Sex   Age  \\\n",
       "0     Oceanside, San Diego County     Paddling      Julie Wolfe    F   57   \n",
       "1  St. Simon Island, Glynn County     Standing  Adyson�McNeely     F   11   \n",
       "2                    Habush, Oahu      Surfing      John Denges    M   48   \n",
       "3              Arrawarra Headland      Surfing             male    M  NaN   \n",
       "4                        La Ticla  Free diving   Gustavo Ramos     M  NaN   \n",
       "\n",
       "                                              Injury Fatal (Y/N)  \\\n",
       "0  No injury to occupant, outrigger canoe and pad...           N   \n",
       "1                         Minor injury to left thigh           N   \n",
       "2       Injury to left lower leg from surfboard skeg           N   \n",
       "3                          Minor injury to lower leg           N   \n",
       "4  Lacerations to leg & hand shark PROVOKED INCIDENT           N   \n",
       "\n",
       "            Time         Species           Investigator or Source  \\\n",
       "0          18h00      White shark                R. Collier, GSAF   \n",
       "1  14h00  -15h00              NaN  K.McMurray, TrackingSharks.com   \n",
       "2          07h45              NaN  K.McMurray, TrackingSharks.com   \n",
       "3            NaN        2 m shark                  B. Myatt, GSAF   \n",
       "4            NaN  Tiger shark, 3m                       A .Kipper   \n",
       "\n",
       "                        pdf  \\\n",
       "0      2018.06.25-Wolfe.pdf   \n",
       "1    2018.06.18-McNeely.pdf   \n",
       "2     2018.06.09-Denges.pdf   \n",
       "3  2018.06.08-Arrawarra.pdf   \n",
       "4      2018.06.04-Ramos.pdf   \n",
       "\n",
       "                                        href formula  \\\n",
       "0  http://sharkattackfile.net/spreadsheets/pdf_di...   \n",
       "1  http://sharkattackfile.net/spreadsheets/pdf_di...   \n",
       "2  http://sharkattackfile.net/spreadsheets/pdf_di...   \n",
       "3  http://sharkattackfile.net/spreadsheets/pdf_di...   \n",
       "4  http://sharkattackfile.net/spreadsheets/pdf_di...   \n",
       "\n",
       "                                                href Case Number.1  \\\n",
       "0  http://sharkattackfile.net/spreadsheets/pdf_di...    2018.06.25   \n",
       "1  http://sharkattackfile.net/spreadsheets/pdf_di...    2018.06.18   \n",
       "2  http://sharkattackfile.net/spreadsheets/pdf_di...    2018.06.09   \n",
       "3  http://sharkattackfile.net/spreadsheets/pdf_di...    2018.06.08   \n",
       "4  http://sharkattackfile.net/spreadsheets/pdf_di...    2018.06.04   \n",
       "\n",
       "  Case Number.2  original order Unnamed: 22 Unnamed: 23  \n",
       "0    2018.06.25          6303.0         NaN         NaN  \n",
       "1    2018.06.18          6302.0         NaN         NaN  \n",
       "2    2018.06.09          6301.0         NaN         NaN  \n",
       "3    2018.06.08          6300.0         NaN         NaN  \n",
       "4    2018.06.04          6299.0         NaN         NaN  "
      ]
     },
     "execution_count": 125,
     "metadata": {},
     "output_type": "execute_result"
    }
   ],
   "source": [
    "sss.head()"
   ]
  },
  {
   "cell_type": "code",
   "execution_count": 126,
   "id": "75b171aa",
   "metadata": {},
   "outputs": [
    {
     "data": {
      "text/plain": [
       "(25723, 24)"
      ]
     },
     "execution_count": 126,
     "metadata": {},
     "output_type": "execute_result"
    }
   ],
   "source": [
    "sss.shape"
   ]
  },
  {
   "cell_type": "code",
   "execution_count": 127,
   "id": "13ce630e",
   "metadata": {},
   "outputs": [
    {
     "data": {
      "text/plain": [
       "Index(['Case Number', 'Date', 'Year', 'Type', 'Country', 'Area', 'Location',\n",
       "       'Activity', 'Name', 'Sex ', 'Age', 'Injury', 'Fatal (Y/N)', 'Time',\n",
       "       'Species ', 'Investigator or Source', 'pdf', 'href formula', 'href',\n",
       "       'Case Number.1', 'Case Number.2', 'original order', 'Unnamed: 22',\n",
       "       'Unnamed: 23'],\n",
       "      dtype='object')"
      ]
     },
     "execution_count": 127,
     "metadata": {},
     "output_type": "execute_result"
    }
   ],
   "source": [
    "sss.columns"
   ]
  },
  {
   "cell_type": "code",
   "execution_count": 128,
   "id": "5bf2a2b4",
   "metadata": {},
   "outputs": [
    {
     "name": "stdout",
     "output_type": "stream",
     "text": [
      "<class 'pandas.core.frame.DataFrame'>\n",
      "RangeIndex: 25723 entries, 0 to 25722\n",
      "Data columns (total 24 columns):\n",
      " #   Column                  Non-Null Count  Dtype  \n",
      "---  ------                  --------------  -----  \n",
      " 0   Case Number             8702 non-null   object \n",
      " 1   Date                    6302 non-null   object \n",
      " 2   Year                    6300 non-null   float64\n",
      " 3   Type                    6298 non-null   object \n",
      " 4   Country                 6252 non-null   object \n",
      " 5   Area                    5847 non-null   object \n",
      " 6   Location                5762 non-null   object \n",
      " 7   Activity                5758 non-null   object \n",
      " 8   Name                    6092 non-null   object \n",
      " 9   Sex                     5737 non-null   object \n",
      " 10  Age                     3471 non-null   object \n",
      " 11  Injury                  6274 non-null   object \n",
      " 12  Fatal (Y/N)             5763 non-null   object \n",
      " 13  Time                    2948 non-null   object \n",
      " 14  Species                 3464 non-null   object \n",
      " 15  Investigator or Source  6285 non-null   object \n",
      " 16  pdf                     6302 non-null   object \n",
      " 17  href formula            6301 non-null   object \n",
      " 18  href                    6302 non-null   object \n",
      " 19  Case Number.1           6302 non-null   object \n",
      " 20  Case Number.2           6302 non-null   object \n",
      " 21  original order          6309 non-null   float64\n",
      " 22  Unnamed: 22             1 non-null      object \n",
      " 23  Unnamed: 23             2 non-null      object \n",
      "dtypes: float64(2), object(22)\n",
      "memory usage: 22.8 MB\n"
     ]
    }
   ],
   "source": [
    "sss.info(memory_usage='deep')"
   ]
  },
  {
   "cell_type": "markdown",
   "id": "534372ea",
   "metadata": {},
   "source": [
    "# 2. Proceso de limpieza. Eliminacion de tablas y duplicados\n",
    "\n",
    "-Lo primero que voy a hacer es cambiar un poco los nombres de las columnas para que sea mmás sencillo trabajar con ellas...luego cuando acabe las dejaré algo mejor.\n",
    "\n",
    "-Como se puede observar en la info de arriba hay bastantes nulos en especial en las columnas unnamed...en las que tan solo hay un valor que no sea nulo. Esas columnas no me ofrecen ningun tipo de información por lo que voy a proceder a borrarlas.\n"
   ]
  },
  {
   "cell_type": "code",
   "execution_count": 129,
   "id": "7e7b5d79",
   "metadata": {},
   "outputs": [
    {
     "data": {
      "text/plain": [
       "Index(['case_number', 'date', 'year', 'type', 'country', 'area', 'location',\n",
       "       'activity', 'name', 'sex_', 'age', 'injury', 'fatal_(y/n)', 'time',\n",
       "       'species_', 'investigator_or_source', 'pdf', 'href_formula', 'href',\n",
       "       'case_number1', 'case_number2', 'original_order', 'unnamed_22',\n",
       "       'unnamed_23'],\n",
       "      dtype='object')"
      ]
     },
     "execution_count": 129,
     "metadata": {},
     "output_type": "execute_result"
    }
   ],
   "source": [
    "#es cambiar el nombre de las coumnas para que me cojan todo\n",
    "sss.columns=[c.lower().replace(' ', '_').replace(':','').replace('.','') for c in sss.columns]\n",
    "sss.columns"
   ]
  },
  {
   "cell_type": "code",
   "execution_count": 130,
   "id": "0535ed52",
   "metadata": {},
   "outputs": [],
   "source": [
    "##lo primero borro esos valores que tienen tan solo 1 o 2 no nulos...osea unnamed 22 y 23\n",
    "#se crea una variable llamada nan_cols  que nos da la suma de los valores nulos de cada coluumna, despues vemos los valores que\n",
    "#tienen valores nulos mayores de cero \n",
    "\n",
    "nan_cols=sss.isna().sum()\n",
    "#nan_cols[nan_cols>0]"
   ]
  },
  {
   "cell_type": "code",
   "execution_count": 131,
   "id": "b1a6e834",
   "metadata": {},
   "outputs": [
    {
     "data": {
      "text/plain": [
       "array([nan, 'Teramo', 'change filename'], dtype=object)"
      ]
     },
     "execution_count": 131,
     "metadata": {},
     "output_type": "execute_result"
    }
   ],
   "source": [
    "sss.unnamed_23.unique() ##veo el contenido para asegurarme, de 22 tb"
   ]
  },
  {
   "cell_type": "code",
   "execution_count": 132,
   "id": "f14010b3",
   "metadata": {},
   "outputs": [
    {
     "data": {
      "text/plain": [
       "Index(['unnamed_22', 'unnamed_23'], dtype='object')"
      ]
     },
     "execution_count": 132,
     "metadata": {},
     "output_type": "execute_result"
    }
   ],
   "source": [
    "\n",
    "nan_cols[nan_cols>2.3e4].index\n"
   ]
  },
  {
   "cell_type": "code",
   "execution_count": 133,
   "id": "92fac105",
   "metadata": {},
   "outputs": [],
   "source": [
    "sss.drop(columns=nan_cols[nan_cols>2.3e4].index, inplace=True)"
   ]
  },
  {
   "cell_type": "code",
   "execution_count": 134,
   "id": "aaa54d20",
   "metadata": {},
   "outputs": [
    {
     "data": {
      "text/plain": [
       "(25723, 22)"
      ]
     },
     "execution_count": 134,
     "metadata": {},
     "output_type": "execute_result"
    }
   ],
   "source": [
    "sss.shape "
   ]
  },
  {
   "cell_type": "markdown",
   "id": "d6d929a6",
   "metadata": {},
   "source": [
    "# 2.1 Eliminación de duplicados..."
   ]
  },
  {
   "cell_type": "code",
   "execution_count": 135,
   "id": "3296fe15",
   "metadata": {},
   "outputs": [
    {
     "data": {
      "text/plain": [
       "False"
      ]
     },
     "execution_count": 135,
     "metadata": {},
     "output_type": "execute_result"
    }
   ],
   "source": [
    "sss.drop_duplicates().shape==sss.shape#esto dice que si que hay muchos duplicados"
   ]
  },
  {
   "cell_type": "code",
   "execution_count": 136,
   "id": "2ded2435",
   "metadata": {},
   "outputs": [],
   "source": [
    "sss=sss.drop_duplicates()# elimino los duplicados"
   ]
  },
  {
   "cell_type": "code",
   "execution_count": 137,
   "id": "3a2f42ef",
   "metadata": {},
   "outputs": [],
   "source": [
    "dim_original=s_original.shape#se me habia olvidado hacer esto"
   ]
  },
  {
   "cell_type": "code",
   "execution_count": 138,
   "id": "4be5a3e9",
   "metadata": {},
   "outputs": [
    {
     "data": {
      "text/plain": [
       "((6312, 22), (25723, 24))"
      ]
     },
     "execution_count": 138,
     "metadata": {},
     "output_type": "execute_result"
    }
   ],
   "source": [
    "sss.shape, dim_original#comparo, mucas filas menos"
   ]
  },
  {
   "cell_type": "code",
   "execution_count": 139,
   "id": "b6f08726",
   "metadata": {},
   "outputs": [],
   "source": [
    "sss2=sss.copy()#creo copia por si \n",
    "\n"
   ]
  },
  {
   "cell_type": "markdown",
   "id": "6a11f56a",
   "metadata": {},
   "source": [
    "# 2.2 Eliminación de una gran cantidad de valore nulos \n",
    "\n",
    "-Me doy cuenta que las 10 ultimas filas de todas las columnas están llenas de valores nulos que no me valen tampoco para nada, por lo que las elimino"
   ]
  },
  {
   "cell_type": "code",
   "execution_count": 140,
   "id": "879987f7",
   "metadata": {},
   "outputs": [
    {
     "data": {
      "text/html": [
       "<div>\n",
       "<style scoped>\n",
       "    .dataframe tbody tr th:only-of-type {\n",
       "        vertical-align: middle;\n",
       "    }\n",
       "\n",
       "    .dataframe tbody tr th {\n",
       "        vertical-align: top;\n",
       "    }\n",
       "\n",
       "    .dataframe thead th {\n",
       "        text-align: right;\n",
       "    }\n",
       "</style>\n",
       "<table border=\"1\" class=\"dataframe\">\n",
       "  <thead>\n",
       "    <tr style=\"text-align: right;\">\n",
       "      <th></th>\n",
       "      <th>case_number</th>\n",
       "      <th>date</th>\n",
       "      <th>year</th>\n",
       "      <th>type</th>\n",
       "      <th>country</th>\n",
       "      <th>area</th>\n",
       "      <th>location</th>\n",
       "      <th>activity</th>\n",
       "      <th>name</th>\n",
       "      <th>sex_</th>\n",
       "      <th>age</th>\n",
       "      <th>injury</th>\n",
       "      <th>fatal_(y/n)</th>\n",
       "      <th>time</th>\n",
       "      <th>species_</th>\n",
       "      <th>investigator_or_source</th>\n",
       "      <th>pdf</th>\n",
       "      <th>href_formula</th>\n",
       "      <th>href</th>\n",
       "      <th>case_number1</th>\n",
       "      <th>case_number2</th>\n",
       "      <th>original_order</th>\n",
       "    </tr>\n",
       "  </thead>\n",
       "  <tbody>\n",
       "    <tr>\n",
       "      <th>6302</th>\n",
       "      <td>0</td>\n",
       "      <td>NaN</td>\n",
       "      <td>NaN</td>\n",
       "      <td>NaN</td>\n",
       "      <td>NaN</td>\n",
       "      <td>NaN</td>\n",
       "      <td>NaN</td>\n",
       "      <td>NaN</td>\n",
       "      <td>NaN</td>\n",
       "      <td>NaN</td>\n",
       "      <td>NaN</td>\n",
       "      <td>NaN</td>\n",
       "      <td>NaN</td>\n",
       "      <td>NaN</td>\n",
       "      <td>NaN</td>\n",
       "      <td>NaN</td>\n",
       "      <td>NaN</td>\n",
       "      <td>NaN</td>\n",
       "      <td>NaN</td>\n",
       "      <td>NaN</td>\n",
       "      <td>NaN</td>\n",
       "      <td>6304.0</td>\n",
       "    </tr>\n",
       "    <tr>\n",
       "      <th>6303</th>\n",
       "      <td>0</td>\n",
       "      <td>NaN</td>\n",
       "      <td>NaN</td>\n",
       "      <td>NaN</td>\n",
       "      <td>NaN</td>\n",
       "      <td>NaN</td>\n",
       "      <td>NaN</td>\n",
       "      <td>NaN</td>\n",
       "      <td>NaN</td>\n",
       "      <td>NaN</td>\n",
       "      <td>NaN</td>\n",
       "      <td>NaN</td>\n",
       "      <td>NaN</td>\n",
       "      <td>NaN</td>\n",
       "      <td>NaN</td>\n",
       "      <td>NaN</td>\n",
       "      <td>NaN</td>\n",
       "      <td>NaN</td>\n",
       "      <td>NaN</td>\n",
       "      <td>NaN</td>\n",
       "      <td>NaN</td>\n",
       "      <td>6305.0</td>\n",
       "    </tr>\n",
       "    <tr>\n",
       "      <th>6304</th>\n",
       "      <td>0</td>\n",
       "      <td>NaN</td>\n",
       "      <td>NaN</td>\n",
       "      <td>NaN</td>\n",
       "      <td>NaN</td>\n",
       "      <td>NaN</td>\n",
       "      <td>NaN</td>\n",
       "      <td>NaN</td>\n",
       "      <td>NaN</td>\n",
       "      <td>NaN</td>\n",
       "      <td>NaN</td>\n",
       "      <td>NaN</td>\n",
       "      <td>NaN</td>\n",
       "      <td>NaN</td>\n",
       "      <td>NaN</td>\n",
       "      <td>NaN</td>\n",
       "      <td>NaN</td>\n",
       "      <td>NaN</td>\n",
       "      <td>NaN</td>\n",
       "      <td>NaN</td>\n",
       "      <td>NaN</td>\n",
       "      <td>6306.0</td>\n",
       "    </tr>\n",
       "    <tr>\n",
       "      <th>6305</th>\n",
       "      <td>0</td>\n",
       "      <td>NaN</td>\n",
       "      <td>NaN</td>\n",
       "      <td>NaN</td>\n",
       "      <td>NaN</td>\n",
       "      <td>NaN</td>\n",
       "      <td>NaN</td>\n",
       "      <td>NaN</td>\n",
       "      <td>NaN</td>\n",
       "      <td>NaN</td>\n",
       "      <td>NaN</td>\n",
       "      <td>NaN</td>\n",
       "      <td>NaN</td>\n",
       "      <td>NaN</td>\n",
       "      <td>NaN</td>\n",
       "      <td>NaN</td>\n",
       "      <td>NaN</td>\n",
       "      <td>NaN</td>\n",
       "      <td>NaN</td>\n",
       "      <td>NaN</td>\n",
       "      <td>NaN</td>\n",
       "      <td>6307.0</td>\n",
       "    </tr>\n",
       "    <tr>\n",
       "      <th>6306</th>\n",
       "      <td>0</td>\n",
       "      <td>NaN</td>\n",
       "      <td>NaN</td>\n",
       "      <td>NaN</td>\n",
       "      <td>NaN</td>\n",
       "      <td>NaN</td>\n",
       "      <td>NaN</td>\n",
       "      <td>NaN</td>\n",
       "      <td>NaN</td>\n",
       "      <td>NaN</td>\n",
       "      <td>NaN</td>\n",
       "      <td>NaN</td>\n",
       "      <td>NaN</td>\n",
       "      <td>NaN</td>\n",
       "      <td>NaN</td>\n",
       "      <td>NaN</td>\n",
       "      <td>NaN</td>\n",
       "      <td>NaN</td>\n",
       "      <td>NaN</td>\n",
       "      <td>NaN</td>\n",
       "      <td>NaN</td>\n",
       "      <td>6308.0</td>\n",
       "    </tr>\n",
       "    <tr>\n",
       "      <th>6307</th>\n",
       "      <td>0</td>\n",
       "      <td>NaN</td>\n",
       "      <td>NaN</td>\n",
       "      <td>NaN</td>\n",
       "      <td>NaN</td>\n",
       "      <td>NaN</td>\n",
       "      <td>NaN</td>\n",
       "      <td>NaN</td>\n",
       "      <td>NaN</td>\n",
       "      <td>NaN</td>\n",
       "      <td>NaN</td>\n",
       "      <td>NaN</td>\n",
       "      <td>NaN</td>\n",
       "      <td>NaN</td>\n",
       "      <td>NaN</td>\n",
       "      <td>NaN</td>\n",
       "      <td>NaN</td>\n",
       "      <td>NaN</td>\n",
       "      <td>NaN</td>\n",
       "      <td>NaN</td>\n",
       "      <td>NaN</td>\n",
       "      <td>6309.0</td>\n",
       "    </tr>\n",
       "    <tr>\n",
       "      <th>6308</th>\n",
       "      <td>0</td>\n",
       "      <td>NaN</td>\n",
       "      <td>NaN</td>\n",
       "      <td>NaN</td>\n",
       "      <td>NaN</td>\n",
       "      <td>NaN</td>\n",
       "      <td>NaN</td>\n",
       "      <td>NaN</td>\n",
       "      <td>NaN</td>\n",
       "      <td>NaN</td>\n",
       "      <td>NaN</td>\n",
       "      <td>NaN</td>\n",
       "      <td>NaN</td>\n",
       "      <td>NaN</td>\n",
       "      <td>NaN</td>\n",
       "      <td>NaN</td>\n",
       "      <td>NaN</td>\n",
       "      <td>NaN</td>\n",
       "      <td>NaN</td>\n",
       "      <td>NaN</td>\n",
       "      <td>NaN</td>\n",
       "      <td>6310.0</td>\n",
       "    </tr>\n",
       "    <tr>\n",
       "      <th>6309</th>\n",
       "      <td>0</td>\n",
       "      <td>NaN</td>\n",
       "      <td>NaN</td>\n",
       "      <td>NaN</td>\n",
       "      <td>NaN</td>\n",
       "      <td>NaN</td>\n",
       "      <td>NaN</td>\n",
       "      <td>NaN</td>\n",
       "      <td>NaN</td>\n",
       "      <td>NaN</td>\n",
       "      <td>NaN</td>\n",
       "      <td>NaN</td>\n",
       "      <td>NaN</td>\n",
       "      <td>NaN</td>\n",
       "      <td>NaN</td>\n",
       "      <td>NaN</td>\n",
       "      <td>NaN</td>\n",
       "      <td>NaN</td>\n",
       "      <td>NaN</td>\n",
       "      <td>NaN</td>\n",
       "      <td>NaN</td>\n",
       "      <td>NaN</td>\n",
       "    </tr>\n",
       "    <tr>\n",
       "      <th>8702</th>\n",
       "      <td>NaN</td>\n",
       "      <td>NaN</td>\n",
       "      <td>NaN</td>\n",
       "      <td>NaN</td>\n",
       "      <td>NaN</td>\n",
       "      <td>NaN</td>\n",
       "      <td>NaN</td>\n",
       "      <td>NaN</td>\n",
       "      <td>NaN</td>\n",
       "      <td>NaN</td>\n",
       "      <td>NaN</td>\n",
       "      <td>NaN</td>\n",
       "      <td>NaN</td>\n",
       "      <td>NaN</td>\n",
       "      <td>NaN</td>\n",
       "      <td>NaN</td>\n",
       "      <td>NaN</td>\n",
       "      <td>NaN</td>\n",
       "      <td>NaN</td>\n",
       "      <td>NaN</td>\n",
       "      <td>NaN</td>\n",
       "      <td>NaN</td>\n",
       "    </tr>\n",
       "    <tr>\n",
       "      <th>25722</th>\n",
       "      <td>xx</td>\n",
       "      <td>NaN</td>\n",
       "      <td>NaN</td>\n",
       "      <td>NaN</td>\n",
       "      <td>NaN</td>\n",
       "      <td>NaN</td>\n",
       "      <td>NaN</td>\n",
       "      <td>NaN</td>\n",
       "      <td>NaN</td>\n",
       "      <td>NaN</td>\n",
       "      <td>NaN</td>\n",
       "      <td>NaN</td>\n",
       "      <td>NaN</td>\n",
       "      <td>NaN</td>\n",
       "      <td>NaN</td>\n",
       "      <td>NaN</td>\n",
       "      <td>NaN</td>\n",
       "      <td>NaN</td>\n",
       "      <td>NaN</td>\n",
       "      <td>NaN</td>\n",
       "      <td>NaN</td>\n",
       "      <td>NaN</td>\n",
       "    </tr>\n",
       "  </tbody>\n",
       "</table>\n",
       "</div>"
      ],
      "text/plain": [
       "      case_number date  year type country area location activity name sex_  \\\n",
       "6302            0  NaN   NaN  NaN     NaN  NaN      NaN      NaN  NaN  NaN   \n",
       "6303            0  NaN   NaN  NaN     NaN  NaN      NaN      NaN  NaN  NaN   \n",
       "6304            0  NaN   NaN  NaN     NaN  NaN      NaN      NaN  NaN  NaN   \n",
       "6305            0  NaN   NaN  NaN     NaN  NaN      NaN      NaN  NaN  NaN   \n",
       "6306            0  NaN   NaN  NaN     NaN  NaN      NaN      NaN  NaN  NaN   \n",
       "6307            0  NaN   NaN  NaN     NaN  NaN      NaN      NaN  NaN  NaN   \n",
       "6308            0  NaN   NaN  NaN     NaN  NaN      NaN      NaN  NaN  NaN   \n",
       "6309            0  NaN   NaN  NaN     NaN  NaN      NaN      NaN  NaN  NaN   \n",
       "8702          NaN  NaN   NaN  NaN     NaN  NaN      NaN      NaN  NaN  NaN   \n",
       "25722          xx  NaN   NaN  NaN     NaN  NaN      NaN      NaN  NaN  NaN   \n",
       "\n",
       "       age injury fatal_(y/n) time species_ investigator_or_source  pdf  \\\n",
       "6302   NaN    NaN         NaN  NaN      NaN                    NaN  NaN   \n",
       "6303   NaN    NaN         NaN  NaN      NaN                    NaN  NaN   \n",
       "6304   NaN    NaN         NaN  NaN      NaN                    NaN  NaN   \n",
       "6305   NaN    NaN         NaN  NaN      NaN                    NaN  NaN   \n",
       "6306   NaN    NaN         NaN  NaN      NaN                    NaN  NaN   \n",
       "6307   NaN    NaN         NaN  NaN      NaN                    NaN  NaN   \n",
       "6308   NaN    NaN         NaN  NaN      NaN                    NaN  NaN   \n",
       "6309   NaN    NaN         NaN  NaN      NaN                    NaN  NaN   \n",
       "8702   NaN    NaN         NaN  NaN      NaN                    NaN  NaN   \n",
       "25722  NaN    NaN         NaN  NaN      NaN                    NaN  NaN   \n",
       "\n",
       "      href_formula href case_number1 case_number2  original_order  \n",
       "6302           NaN  NaN          NaN          NaN          6304.0  \n",
       "6303           NaN  NaN          NaN          NaN          6305.0  \n",
       "6304           NaN  NaN          NaN          NaN          6306.0  \n",
       "6305           NaN  NaN          NaN          NaN          6307.0  \n",
       "6306           NaN  NaN          NaN          NaN          6308.0  \n",
       "6307           NaN  NaN          NaN          NaN          6309.0  \n",
       "6308           NaN  NaN          NaN          NaN          6310.0  \n",
       "6309           NaN  NaN          NaN          NaN             NaN  \n",
       "8702           NaN  NaN          NaN          NaN             NaN  \n",
       "25722          NaN  NaN          NaN          NaN             NaN  "
      ]
     },
     "execution_count": 140,
     "metadata": {},
     "output_type": "execute_result"
    }
   ],
   "source": [
    "sss.tail(10)"
   ]
  },
  {
   "cell_type": "code",
   "execution_count": 141,
   "id": "5b30b219",
   "metadata": {},
   "outputs": [
    {
     "data": {
      "text/html": [
       "<div>\n",
       "<style scoped>\n",
       "    .dataframe tbody tr th:only-of-type {\n",
       "        vertical-align: middle;\n",
       "    }\n",
       "\n",
       "    .dataframe tbody tr th {\n",
       "        vertical-align: top;\n",
       "    }\n",
       "\n",
       "    .dataframe thead th {\n",
       "        text-align: right;\n",
       "    }\n",
       "</style>\n",
       "<table border=\"1\" class=\"dataframe\">\n",
       "  <thead>\n",
       "    <tr style=\"text-align: right;\">\n",
       "      <th></th>\n",
       "      <th>case_number</th>\n",
       "      <th>date</th>\n",
       "      <th>year</th>\n",
       "      <th>type</th>\n",
       "      <th>country</th>\n",
       "      <th>area</th>\n",
       "      <th>location</th>\n",
       "      <th>activity</th>\n",
       "      <th>name</th>\n",
       "      <th>sex_</th>\n",
       "      <th>age</th>\n",
       "      <th>injury</th>\n",
       "      <th>fatal_(y/n)</th>\n",
       "      <th>time</th>\n",
       "      <th>species_</th>\n",
       "      <th>investigator_or_source</th>\n",
       "      <th>pdf</th>\n",
       "      <th>href_formula</th>\n",
       "      <th>href</th>\n",
       "      <th>case_number1</th>\n",
       "      <th>case_number2</th>\n",
       "      <th>original_order</th>\n",
       "    </tr>\n",
       "  </thead>\n",
       "  <tbody>\n",
       "    <tr>\n",
       "      <th>0</th>\n",
       "      <td>2018.06.25</td>\n",
       "      <td>25-Jun-2018</td>\n",
       "      <td>2018.0</td>\n",
       "      <td>Boating</td>\n",
       "      <td>USA</td>\n",
       "      <td>California</td>\n",
       "      <td>Oceanside, San Diego County</td>\n",
       "      <td>Paddling</td>\n",
       "      <td>Julie Wolfe</td>\n",
       "      <td>F</td>\n",
       "      <td>57</td>\n",
       "      <td>No injury to occupant, outrigger canoe and pad...</td>\n",
       "      <td>N</td>\n",
       "      <td>18h00</td>\n",
       "      <td>White shark</td>\n",
       "      <td>R. Collier, GSAF</td>\n",
       "      <td>2018.06.25-Wolfe.pdf</td>\n",
       "      <td>http://sharkattackfile.net/spreadsheets/pdf_di...</td>\n",
       "      <td>http://sharkattackfile.net/spreadsheets/pdf_di...</td>\n",
       "      <td>2018.06.25</td>\n",
       "      <td>2018.06.25</td>\n",
       "      <td>6303.0</td>\n",
       "    </tr>\n",
       "    <tr>\n",
       "      <th>1</th>\n",
       "      <td>2018.06.18</td>\n",
       "      <td>18-Jun-2018</td>\n",
       "      <td>2018.0</td>\n",
       "      <td>Unprovoked</td>\n",
       "      <td>USA</td>\n",
       "      <td>Georgia</td>\n",
       "      <td>St. Simon Island, Glynn County</td>\n",
       "      <td>Standing</td>\n",
       "      <td>Adyson�McNeely</td>\n",
       "      <td>F</td>\n",
       "      <td>11</td>\n",
       "      <td>Minor injury to left thigh</td>\n",
       "      <td>N</td>\n",
       "      <td>14h00  -15h00</td>\n",
       "      <td>NaN</td>\n",
       "      <td>K.McMurray, TrackingSharks.com</td>\n",
       "      <td>2018.06.18-McNeely.pdf</td>\n",
       "      <td>http://sharkattackfile.net/spreadsheets/pdf_di...</td>\n",
       "      <td>http://sharkattackfile.net/spreadsheets/pdf_di...</td>\n",
       "      <td>2018.06.18</td>\n",
       "      <td>2018.06.18</td>\n",
       "      <td>6302.0</td>\n",
       "    </tr>\n",
       "    <tr>\n",
       "      <th>2</th>\n",
       "      <td>2018.06.09</td>\n",
       "      <td>09-Jun-2018</td>\n",
       "      <td>2018.0</td>\n",
       "      <td>Invalid</td>\n",
       "      <td>USA</td>\n",
       "      <td>Hawaii</td>\n",
       "      <td>Habush, Oahu</td>\n",
       "      <td>Surfing</td>\n",
       "      <td>John Denges</td>\n",
       "      <td>M</td>\n",
       "      <td>48</td>\n",
       "      <td>Injury to left lower leg from surfboard skeg</td>\n",
       "      <td>N</td>\n",
       "      <td>07h45</td>\n",
       "      <td>NaN</td>\n",
       "      <td>K.McMurray, TrackingSharks.com</td>\n",
       "      <td>2018.06.09-Denges.pdf</td>\n",
       "      <td>http://sharkattackfile.net/spreadsheets/pdf_di...</td>\n",
       "      <td>http://sharkattackfile.net/spreadsheets/pdf_di...</td>\n",
       "      <td>2018.06.09</td>\n",
       "      <td>2018.06.09</td>\n",
       "      <td>6301.0</td>\n",
       "    </tr>\n",
       "    <tr>\n",
       "      <th>3</th>\n",
       "      <td>2018.06.08</td>\n",
       "      <td>08-Jun-2018</td>\n",
       "      <td>2018.0</td>\n",
       "      <td>Unprovoked</td>\n",
       "      <td>AUSTRALIA</td>\n",
       "      <td>New South Wales</td>\n",
       "      <td>Arrawarra Headland</td>\n",
       "      <td>Surfing</td>\n",
       "      <td>male</td>\n",
       "      <td>M</td>\n",
       "      <td>NaN</td>\n",
       "      <td>Minor injury to lower leg</td>\n",
       "      <td>N</td>\n",
       "      <td>NaN</td>\n",
       "      <td>2 m shark</td>\n",
       "      <td>B. Myatt, GSAF</td>\n",
       "      <td>2018.06.08-Arrawarra.pdf</td>\n",
       "      <td>http://sharkattackfile.net/spreadsheets/pdf_di...</td>\n",
       "      <td>http://sharkattackfile.net/spreadsheets/pdf_di...</td>\n",
       "      <td>2018.06.08</td>\n",
       "      <td>2018.06.08</td>\n",
       "      <td>6300.0</td>\n",
       "    </tr>\n",
       "    <tr>\n",
       "      <th>4</th>\n",
       "      <td>2018.06.04</td>\n",
       "      <td>04-Jun-2018</td>\n",
       "      <td>2018.0</td>\n",
       "      <td>Provoked</td>\n",
       "      <td>MEXICO</td>\n",
       "      <td>Colima</td>\n",
       "      <td>La Ticla</td>\n",
       "      <td>Free diving</td>\n",
       "      <td>Gustavo Ramos</td>\n",
       "      <td>M</td>\n",
       "      <td>NaN</td>\n",
       "      <td>Lacerations to leg &amp; hand shark PROVOKED INCIDENT</td>\n",
       "      <td>N</td>\n",
       "      <td>NaN</td>\n",
       "      <td>Tiger shark, 3m</td>\n",
       "      <td>A .Kipper</td>\n",
       "      <td>2018.06.04-Ramos.pdf</td>\n",
       "      <td>http://sharkattackfile.net/spreadsheets/pdf_di...</td>\n",
       "      <td>http://sharkattackfile.net/spreadsheets/pdf_di...</td>\n",
       "      <td>2018.06.04</td>\n",
       "      <td>2018.06.04</td>\n",
       "      <td>6299.0</td>\n",
       "    </tr>\n",
       "  </tbody>\n",
       "</table>\n",
       "</div>"
      ],
      "text/plain": [
       "  case_number         date    year        type    country             area  \\\n",
       "0  2018.06.25  25-Jun-2018  2018.0     Boating        USA       California   \n",
       "1  2018.06.18  18-Jun-2018  2018.0  Unprovoked        USA          Georgia   \n",
       "2  2018.06.09  09-Jun-2018  2018.0     Invalid        USA           Hawaii   \n",
       "3  2018.06.08  08-Jun-2018  2018.0  Unprovoked  AUSTRALIA  New South Wales   \n",
       "4  2018.06.04  04-Jun-2018  2018.0    Provoked     MEXICO           Colima   \n",
       "\n",
       "                         location     activity             name sex_  age  \\\n",
       "0     Oceanside, San Diego County     Paddling      Julie Wolfe    F   57   \n",
       "1  St. Simon Island, Glynn County     Standing  Adyson�McNeely     F   11   \n",
       "2                    Habush, Oahu      Surfing      John Denges    M   48   \n",
       "3              Arrawarra Headland      Surfing             male    M  NaN   \n",
       "4                        La Ticla  Free diving   Gustavo Ramos     M  NaN   \n",
       "\n",
       "                                              injury fatal_(y/n)  \\\n",
       "0  No injury to occupant, outrigger canoe and pad...           N   \n",
       "1                         Minor injury to left thigh           N   \n",
       "2       Injury to left lower leg from surfboard skeg           N   \n",
       "3                          Minor injury to lower leg           N   \n",
       "4  Lacerations to leg & hand shark PROVOKED INCIDENT           N   \n",
       "\n",
       "            time         species_          investigator_or_source  \\\n",
       "0          18h00      White shark                R. Collier, GSAF   \n",
       "1  14h00  -15h00              NaN  K.McMurray, TrackingSharks.com   \n",
       "2          07h45              NaN  K.McMurray, TrackingSharks.com   \n",
       "3            NaN        2 m shark                  B. Myatt, GSAF   \n",
       "4            NaN  Tiger shark, 3m                       A .Kipper   \n",
       "\n",
       "                        pdf  \\\n",
       "0      2018.06.25-Wolfe.pdf   \n",
       "1    2018.06.18-McNeely.pdf   \n",
       "2     2018.06.09-Denges.pdf   \n",
       "3  2018.06.08-Arrawarra.pdf   \n",
       "4      2018.06.04-Ramos.pdf   \n",
       "\n",
       "                                        href_formula  \\\n",
       "0  http://sharkattackfile.net/spreadsheets/pdf_di...   \n",
       "1  http://sharkattackfile.net/spreadsheets/pdf_di...   \n",
       "2  http://sharkattackfile.net/spreadsheets/pdf_di...   \n",
       "3  http://sharkattackfile.net/spreadsheets/pdf_di...   \n",
       "4  http://sharkattackfile.net/spreadsheets/pdf_di...   \n",
       "\n",
       "                                                href case_number1  \\\n",
       "0  http://sharkattackfile.net/spreadsheets/pdf_di...   2018.06.25   \n",
       "1  http://sharkattackfile.net/spreadsheets/pdf_di...   2018.06.18   \n",
       "2  http://sharkattackfile.net/spreadsheets/pdf_di...   2018.06.09   \n",
       "3  http://sharkattackfile.net/spreadsheets/pdf_di...   2018.06.08   \n",
       "4  http://sharkattackfile.net/spreadsheets/pdf_di...   2018.06.04   \n",
       "\n",
       "  case_number2  original_order  \n",
       "0   2018.06.25          6303.0  \n",
       "1   2018.06.18          6302.0  \n",
       "2   2018.06.09          6301.0  \n",
       "3   2018.06.08          6300.0  \n",
       "4   2018.06.04          6299.0  "
      ]
     },
     "execution_count": 141,
     "metadata": {},
     "output_type": "execute_result"
    }
   ],
   "source": [
    "sss.drop(sss.tail(10).index, inplace=True)\n",
    "sss.head()"
   ]
  },
  {
   "cell_type": "code",
   "execution_count": 142,
   "id": "0d2c4540",
   "metadata": {},
   "outputs": [
    {
     "data": {
      "text/plain": [
       "((6302, 22), (25723, 24))"
      ]
     },
     "execution_count": 142,
     "metadata": {},
     "output_type": "execute_result"
    }
   ],
   "source": [
    "sss.shape, dim_original"
   ]
  },
  {
   "cell_type": "markdown",
   "id": "b6a5b30b",
   "metadata": {},
   "source": [
    "# 2.3 Tablas semejantes.\n",
    "\n",
    "-Observo que hay cuatro tablas que se asemejan mucho  case_number 1 case_number2 case_number y Date, valoro los duplicados que hay en unas y otros y me dispongo a borrar las que no me aporten mucha más información. En este caso me quedaré solo con la columna case_number, que es la que más info aporta y la más sencilla de modificar\n",
    "\n",
    "-Lo mismo ocurre con las tablas href y href formula, investigo cuales son las no duplicadas y por qué y decido borrar una de ellas ya que la única diferencia es que en los no duplicados de href fórmula está el link repetido"
   ]
  },
  {
   "cell_type": "code",
   "execution_count": 143,
   "id": "9c14978d",
   "metadata": {},
   "outputs": [
    {
     "data": {
      "text/plain": [
       "True     6282\n",
       "False      20\n",
       "dtype: int64"
      ]
     },
     "execution_count": 143,
     "metadata": {},
     "output_type": "execute_result"
    }
   ],
   "source": [
    "(sss.drop_duplicates().case_number1==sss.case_number2).value_counts()\n",
    "##el valor de no duplicados es irrisorio, por lo que me puedo permitir el eliminar columnas"
   ]
  },
  {
   "cell_type": "code",
   "execution_count": 144,
   "id": "5daee64b",
   "metadata": {},
   "outputs": [
    {
     "data": {
      "text/plain": [
       "True     6278\n",
       "False      24\n",
       "dtype: int64"
      ]
     },
     "execution_count": 144,
     "metadata": {},
     "output_type": "execute_result"
    }
   ],
   "source": [
    "(sss.drop_duplicates().case_number1==sss.case_number).value_counts()\n",
    "##con esto igual"
   ]
  },
  {
   "cell_type": "code",
   "execution_count": 145,
   "id": "63f49ef7",
   "metadata": {},
   "outputs": [],
   "source": [
    "sss3=sss.copy()"
   ]
  },
  {
   "cell_type": "code",
   "execution_count": 146,
   "id": "adff5d99",
   "metadata": {},
   "outputs": [],
   "source": [
    "sss=sss.drop(columns=['case_number1', 'case_number2'])"
   ]
  },
  {
   "cell_type": "code",
   "execution_count": 147,
   "id": "ff194070",
   "metadata": {},
   "outputs": [
    {
     "data": {
      "text/plain": [
       "((6302, 20), (25723, 24))"
      ]
     },
     "execution_count": 147,
     "metadata": {},
     "output_type": "execute_result"
    }
   ],
   "source": [
    "sss.shape, dim_original##ya estan borradas"
   ]
  },
  {
   "cell_type": "code",
   "execution_count": 148,
   "id": "cd05d8fe",
   "metadata": {},
   "outputs": [
    {
     "data": {
      "text/plain": [
       "0    True\n",
       "1    True\n",
       "2    True\n",
       "3    True\n",
       "4    True\n",
       "dtype: bool"
      ]
     },
     "execution_count": 148,
     "metadata": {},
     "output_type": "execute_result"
    }
   ],
   "source": [
    "(sss.drop_duplicates().href_formula==sss.href).head()\n"
   ]
  },
  {
   "cell_type": "code",
   "execution_count": 149,
   "id": "1d74e9bb",
   "metadata": {},
   "outputs": [
    {
     "data": {
      "text/plain": [
       "'http://sharkattackfile.net/spreadsheets/pdf_directory/2017.05.27-Selwood.pdf'"
      ]
     },
     "execution_count": 149,
     "metadata": {},
     "output_type": "execute_result"
    }
   ],
   "source": [
    "sss.href_formula[141]\n"
   ]
  },
  {
   "cell_type": "code",
   "execution_count": 150,
   "id": "53a1482f",
   "metadata": {},
   "outputs": [
    {
     "data": {
      "text/plain": [
       "'http://sharkattackfile.net/spreadsheets/pdf_directory/http://sharkattackfile.net/spreadsheets/pdf_directory/2017.05.27-Selwood.pdf'"
      ]
     },
     "execution_count": 150,
     "metadata": {},
     "output_type": "execute_result"
    }
   ],
   "source": [
    "sss.href[141]"
   ]
  },
  {
   "cell_type": "code",
   "execution_count": 151,
   "id": "0ffb0d38",
   "metadata": {},
   "outputs": [],
   "source": [
    "sss=sss.drop(columns=['href'])"
   ]
  },
  {
   "cell_type": "code",
   "execution_count": 152,
   "id": "3bb1c4ce",
   "metadata": {},
   "outputs": [
    {
     "data": {
      "text/plain": [
       "((6302, 19), (25723, 24))"
      ]
     },
     "execution_count": 152,
     "metadata": {},
     "output_type": "execute_result"
    }
   ],
   "source": [
    "sss.shape, dim_original "
   ]
  },
  {
   "cell_type": "code",
   "execution_count": 153,
   "id": "69853813",
   "metadata": {},
   "outputs": [],
   "source": [
    "#sss.info(memory_usage='deep')"
   ]
  },
  {
   "cell_type": "code",
   "execution_count": 154,
   "id": "82658870",
   "metadata": {},
   "outputs": [],
   "source": [
    "sss=sss.drop(columns=['date'])"
   ]
  },
  {
   "cell_type": "code",
   "execution_count": 155,
   "id": "970f65dc",
   "metadata": {},
   "outputs": [
    {
     "data": {
      "text/plain": [
       "((6302, 18), (25723, 24))"
      ]
     },
     "execution_count": 155,
     "metadata": {},
     "output_type": "execute_result"
    }
   ],
   "source": [
    "sss.shape, dim_original "
   ]
  },
  {
   "cell_type": "markdown",
   "id": "aac9c2d7",
   "metadata": {},
   "source": [
    "# 3.Proceso limpieza columna case_number:\n",
    "\n",
    "-Estas son las columnas con las que me voy a quedar, aunque no me interesan todas para mi hipotesis no veo motivos para borrarlas por lo que empiezo  a trabajar con cada una de ellas.\n",
    "\n",
    "-La columna case_number tiene valores en diferentes formatos, quiero equipararlos todos. Para ello primero la paso a string para poder aplicarle la funcion y luego como la función no ha hecho todos los cambios que yo quería, reviso y modifico uno a uno los valores que no me gustan."
   ]
  },
  {
   "cell_type": "code",
   "execution_count": 156,
   "id": "e33f1098",
   "metadata": {},
   "outputs": [
    {
     "name": "stdout",
     "output_type": "stream",
     "text": [
      "<class 'pandas.core.frame.DataFrame'>\n",
      "Int64Index: 6302 entries, 0 to 6301\n",
      "Data columns (total 18 columns):\n",
      " #   Column                  Non-Null Count  Dtype   \n",
      "---  ------                  --------------  -----   \n",
      " 0   case_number             6301 non-null   category\n",
      " 1   year                    6300 non-null   float64 \n",
      " 2   type                    6298 non-null   category\n",
      " 3   country                 6252 non-null   category\n",
      " 4   area                    5847 non-null   category\n",
      " 5   location                5762 non-null   category\n",
      " 6   activity                5758 non-null   category\n",
      " 7   name                    6092 non-null   category\n",
      " 8   sex_                    5737 non-null   category\n",
      " 9   age                     3471 non-null   category\n",
      " 10  injury                  6274 non-null   category\n",
      " 11  fatal_(y/n)             5763 non-null   category\n",
      " 12  time                    2948 non-null   category\n",
      " 13  species_                3464 non-null   category\n",
      " 14  investigator_or_source  6285 non-null   category\n",
      " 15  pdf                     6302 non-null   category\n",
      " 16  href_formula            6301 non-null   category\n",
      " 17  original_order          6302 non-null   float64 \n",
      "dtypes: category(16), float64(2)\n",
      "memory usage: 5.0 MB\n"
     ]
    }
   ],
   "source": [
    "for case_number in sss.select_dtypes('object').columns:\n",
    "    \n",
    "    sss[case_number]=sss[case_number].astype('category')\n",
    "    \n",
    "sss.info(memory_usage='deep')"
   ]
  },
  {
   "cell_type": "code",
   "execution_count": 157,
   "id": "ae9054f4",
   "metadata": {},
   "outputs": [],
   "source": [
    "#creo una funcion para limpiar los date\n",
    "patron='\\d+.\\d+.\\d+'\n",
    "def timebad(x):\n",
    "    cont=0\n",
    "    num=re.findall(patron,x)\n",
    "    num=''.join(num)\n",
    "    if num=='':\n",
    "        cont=0\n",
    "        \n",
    "    elif num in x:\n",
    "        cont+=1\n",
    "        \n",
    "    if cont==0:\n",
    "        return 'unknown'\n",
    "    elif cont==1:\n",
    "        return str(num)"
   ]
  },
  {
   "cell_type": "code",
   "execution_count": 158,
   "id": "311a4c43",
   "metadata": {},
   "outputs": [],
   "source": [
    "sss.case_number=sss.case_number.apply(timebad)"
   ]
  },
  {
   "cell_type": "code",
   "execution_count": 159,
   "id": "68703a76",
   "metadata": {},
   "outputs": [],
   "source": [
    "sss.at[6174,'case_number']='unknown'"
   ]
  },
  {
   "cell_type": "code",
   "execution_count": 160,
   "id": "19e08f0a",
   "metadata": {},
   "outputs": [
    {
     "data": {
      "text/plain": [
       "Int64Index([5488], dtype='int64')"
      ]
     },
     "execution_count": 160,
     "metadata": {},
     "output_type": "execute_result"
    }
   ],
   "source": [
    "mal=sss.case_number[sss.case_number.isna()].index\n",
    "mal"
   ]
  },
  {
   "cell_type": "code",
   "execution_count": 161,
   "id": "c495ce71",
   "metadata": {},
   "outputs": [],
   "source": [
    "sss.at[6175,'case_number']='unknown'\n",
    "sss.at[6176,'case_number']='unknown'\n",
    "sss.at[6177,'case_number']='unknown'\n",
    "sss.at[6178,'case_number']='unknown'\n",
    "sss.at[6179,'case_number']='unknown'\n",
    "sss.at[6180,'case_number']='unknown'\n",
    "sss.at[5488,'case_number']='unknown'"
   ]
  },
  {
   "cell_type": "code",
   "execution_count": 162,
   "id": "9e3e06a6",
   "metadata": {},
   "outputs": [
    {
     "name": "stdout",
     "output_type": "stream",
     "text": [
      "<class 'pandas.core.frame.DataFrame'>\n",
      "Int64Index: 6302 entries, 0 to 6301\n",
      "Data columns (total 18 columns):\n",
      " #   Column                  Non-Null Count  Dtype   \n",
      "---  ------                  --------------  -----   \n",
      " 0   case_number             6302 non-null   object  \n",
      " 1   year                    6300 non-null   float64 \n",
      " 2   type                    6298 non-null   category\n",
      " 3   country                 6252 non-null   category\n",
      " 4   area                    5847 non-null   category\n",
      " 5   location                5762 non-null   category\n",
      " 6   activity                5758 non-null   category\n",
      " 7   name                    6092 non-null   category\n",
      " 8   sex_                    5737 non-null   category\n",
      " 9   age                     3471 non-null   category\n",
      " 10  injury                  6274 non-null   category\n",
      " 11  fatal_(y/n)             5763 non-null   category\n",
      " 12  time                    2948 non-null   category\n",
      " 13  species_                3464 non-null   category\n",
      " 14  investigator_or_source  6285 non-null   category\n",
      " 15  pdf                     6302 non-null   category\n",
      " 16  href_formula            6301 non-null   category\n",
      " 17  original_order          6302 non-null   float64 \n",
      "dtypes: category(15), float64(2), object(1)\n",
      "memory usage: 4.9 MB\n"
     ]
    }
   ],
   "source": [
    "#reviso por ultima vez que la lista case_number esta bien\n",
    "sss.info(memory_usage='deep')"
   ]
  },
  {
   "cell_type": "markdown",
   "id": "3a8f239a",
   "metadata": {},
   "source": [
    "## 4. Proceso limpieza columna year:\n",
    "-Tan solo existen dos valores nulos en esta columna...no me interesa ponerle unknown xq son solo dos por los que los relleno equiparandolos a los valores contiguos.\n",
    "\n",
    "-No me gusta que algunos valores tengan cero, por lo que creo una función para cambiarlos por Unknown."
   ]
  },
  {
   "cell_type": "code",
   "execution_count": 163,
   "id": "290a3853",
   "metadata": {},
   "outputs": [
    {
     "data": {
      "text/plain": [
       "Int64Index([187, 6079], dtype='int64')"
      ]
     },
     "execution_count": 163,
     "metadata": {},
     "output_type": "execute_result"
    }
   ],
   "source": [
    "mal=sss.year[sss.year.isna()].index \n",
    "mal"
   ]
  },
  {
   "cell_type": "code",
   "execution_count": 164,
   "id": "0f0f4310",
   "metadata": {},
   "outputs": [],
   "source": [
    "sss['year']=sss['year'].bfill()"
   ]
  },
  {
   "cell_type": "code",
   "execution_count": 165,
   "id": "f244621c",
   "metadata": {},
   "outputs": [
    {
     "data": {
      "text/plain": [
       "0    2018.0\n",
       "1    2018.0\n",
       "2    2018.0\n",
       "3    2018.0\n",
       "4    2018.0\n",
       "Name: year, dtype: float64"
      ]
     },
     "execution_count": 165,
     "metadata": {},
     "output_type": "execute_result"
    }
   ],
   "source": [
    "sss.year.head()"
   ]
  },
  {
   "cell_type": "code",
   "execution_count": 166,
   "id": "39a40aed",
   "metadata": {},
   "outputs": [],
   "source": [
    "#for year in sss.select_dtypes('float').columns:\n",
    "    \n",
    "    #sss[case_number]=sss[case_number].astype('int')\n",
    "    \n",
    "#sss.info(memory_usage='deep')"
   ]
  },
  {
   "cell_type": "code",
   "execution_count": 167,
   "id": "08a4d48b",
   "metadata": {},
   "outputs": [],
   "source": [
    "#nan_cols=sss.isna().sum()\n",
    "#nan_cols[nan_cols>0]"
   ]
  },
  {
   "cell_type": "code",
   "execution_count": 168,
   "id": "6a2c49b0",
   "metadata": {},
   "outputs": [
    {
     "name": "stdout",
     "output_type": "stream",
     "text": [
      "<class 'pandas.core.frame.DataFrame'>\n",
      "Int64Index: 6302 entries, 0 to 6301\n",
      "Data columns (total 18 columns):\n",
      " #   Column                  Non-Null Count  Dtype   \n",
      "---  ------                  --------------  -----   \n",
      " 0   case_number             6302 non-null   object  \n",
      " 1   year                    6302 non-null   int32   \n",
      " 2   type                    6298 non-null   category\n",
      " 3   country                 6252 non-null   category\n",
      " 4   area                    5847 non-null   category\n",
      " 5   location                5762 non-null   category\n",
      " 6   activity                5758 non-null   category\n",
      " 7   name                    6092 non-null   category\n",
      " 8   sex_                    5737 non-null   category\n",
      " 9   age                     3471 non-null   category\n",
      " 10  injury                  6274 non-null   category\n",
      " 11  fatal_(y/n)             5763 non-null   category\n",
      " 12  time                    2948 non-null   category\n",
      " 13  species_                3464 non-null   category\n",
      " 14  investigator_or_source  6285 non-null   category\n",
      " 15  pdf                     6302 non-null   category\n",
      " 16  href_formula            6301 non-null   category\n",
      " 17  original_order          6302 non-null   float64 \n",
      "dtypes: category(15), float64(1), int32(1), object(1)\n",
      "memory usage: 4.8 MB\n"
     ]
    }
   ],
   "source": [
    "sss['year']=sss['year'].astype('int') #pasado a int para poder modificarlo\n",
    "    \n",
    "sss.info(memory_usage='deep')"
   ]
  },
  {
   "cell_type": "code",
   "execution_count": 169,
   "id": "9e1f5e62",
   "metadata": {},
   "outputs": [],
   "source": [
    "#sss.year.value_counts().head()"
   ]
  },
  {
   "cell_type": "code",
   "execution_count": 170,
   "id": "52ab9941",
   "metadata": {},
   "outputs": [],
   "source": [
    "def years(x):\n",
    "        if x==0:\n",
    "            return 'unkwnon'\n",
    "        else:\n",
    "            return x\n",
    "        \n",
    "        #funcion de transformacion\n",
    "    "
   ]
  },
  {
   "cell_type": "code",
   "execution_count": 171,
   "id": "9a5f7902",
   "metadata": {},
   "outputs": [],
   "source": [
    "sss.year=sss.year.apply(years)"
   ]
  },
  {
   "cell_type": "code",
   "execution_count": 172,
   "id": "d2860e51",
   "metadata": {},
   "outputs": [
    {
     "data": {
      "text/plain": [
       "0    2018\n",
       "1    2018\n",
       "2    2018\n",
       "3    2018\n",
       "4    2018\n",
       "Name: year, dtype: object"
      ]
     },
     "execution_count": 172,
     "metadata": {},
     "output_type": "execute_result"
    }
   ],
   "source": [
    "sss.year.head() #acabado"
   ]
  },
  {
   "cell_type": "markdown",
   "id": "e90ace17",
   "metadata": {},
   "source": [
    "# 5. Proceso de limpieza columna type:\n",
    "\n",
    "-La modificacion de categorias anterior me ha modificado todas las categorias de las columnas, asi que esto tengo que pasarlo a string pra que me deje modificarlo...por lo que los valores nulos pasan a convertirse en una string y los tengo que modificar como tales, además aprovecho y modifico un poco más los valores unicos ya que hay muchos que se repiten, los boat."
   ]
  },
  {
   "cell_type": "code",
   "execution_count": 173,
   "id": "b59a05f6",
   "metadata": {},
   "outputs": [
    {
     "data": {
      "text/plain": [
       "type                         4\n",
       "country                     50\n",
       "area                       455\n",
       "location                   540\n",
       "activity                   544\n",
       "name                       210\n",
       "sex_                       565\n",
       "age                       2831\n",
       "injury                      28\n",
       "fatal_(y/n)                539\n",
       "time                      3354\n",
       "species_                  2838\n",
       "investigator_or_source      17\n",
       "href_formula                 1\n",
       "dtype: int64"
      ]
     },
     "execution_count": 173,
     "metadata": {},
     "output_type": "execute_result"
    }
   ],
   "source": [
    "nan_cols=sss.isna().sum()\n",
    "nan_cols[nan_cols>0]"
   ]
  },
  {
   "cell_type": "code",
   "execution_count": 174,
   "id": "432f2b41",
   "metadata": {},
   "outputs": [],
   "source": [
    "#el type no me lo coge asi que cambio nombre\n",
    "sss.rename(columns = {'type':'typess'}, inplace = True)"
   ]
  },
  {
   "cell_type": "code",
   "execution_count": 175,
   "id": "2f0adb04",
   "metadata": {},
   "outputs": [],
   "source": [
    "#sss.columns"
   ]
  },
  {
   "cell_type": "code",
   "execution_count": 176,
   "id": "c6ee1d32",
   "metadata": {},
   "outputs": [
    {
     "name": "stdout",
     "output_type": "stream",
     "text": [
      "<class 'pandas.core.frame.DataFrame'>\n",
      "Int64Index: 6302 entries, 0 to 6301\n",
      "Data columns (total 18 columns):\n",
      " #   Column                  Non-Null Count  Dtype   \n",
      "---  ------                  --------------  -----   \n",
      " 0   case_number             6302 non-null   object  \n",
      " 1   year                    6302 non-null   object  \n",
      " 2   typess                  6302 non-null   object  \n",
      " 3   country                 6252 non-null   category\n",
      " 4   area                    5847 non-null   category\n",
      " 5   location                5762 non-null   category\n",
      " 6   activity                5758 non-null   category\n",
      " 7   name                    6092 non-null   category\n",
      " 8   sex_                    5737 non-null   category\n",
      " 9   age                     3471 non-null   category\n",
      " 10  injury                  6274 non-null   category\n",
      " 11  fatal_(y/n)             5763 non-null   category\n",
      " 12  time                    2948 non-null   category\n",
      " 13  species_                3464 non-null   category\n",
      " 14  investigator_or_source  6285 non-null   category\n",
      " 15  pdf                     6302 non-null   category\n",
      " 16  href_formula            6301 non-null   category\n",
      " 17  original_order          6302 non-null   float64 \n",
      "dtypes: category(14), float64(1), object(3)\n",
      "memory usage: 5.4 MB\n"
     ]
    }
   ],
   "source": [
    "sss['typess']=sss['typess'].astype('str') #pasado a str para poder modificarlo\n",
    "    \n",
    "sss.info(memory_usage='deep')"
   ]
  },
  {
   "cell_type": "code",
   "execution_count": 177,
   "id": "b8181ba9",
   "metadata": {},
   "outputs": [
    {
     "data": {
      "text/plain": [
       "array(['Boating', 'Unprovoked', 'Invalid', 'Provoked', 'Questionable',\n",
       "       'Sea Disaster', 'nan', 'Boat', 'Boatomg'], dtype=object)"
      ]
     },
     "execution_count": 177,
     "metadata": {},
     "output_type": "execute_result"
    }
   ],
   "source": [
    "sss.typess.unique()"
   ]
  },
  {
   "cell_type": "code",
   "execution_count": 178,
   "id": "91d7bcc3",
   "metadata": {},
   "outputs": [],
   "source": [
    "sss.typess.replace(['nan', 'Boating','Boatomg'], ['Unknown', 'Boat','Boat'],inplace=True)"
   ]
  },
  {
   "cell_type": "code",
   "execution_count": 179,
   "id": "76bbe4c9",
   "metadata": {},
   "outputs": [
    {
     "data": {
      "text/plain": [
       "array(['Boat', 'Unprovoked', 'Invalid', 'Provoked', 'Questionable',\n",
       "       'Sea Disaster', 'Unknown'], dtype=object)"
      ]
     },
     "execution_count": 179,
     "metadata": {},
     "output_type": "execute_result"
    }
   ],
   "source": [
    "sss.typess.unique()"
   ]
  },
  {
   "cell_type": "markdown",
   "id": "2af5363b",
   "metadata": {},
   "source": [
    "# 6. Proceso limpieza columna country:\n",
    "\n",
    "-Modifico los valores nulos por UNKNOWN y hago una serie de modificaciones para que no tengan carateres raros y estén todos en mayuúsculas."
   ]
  },
  {
   "cell_type": "code",
   "execution_count": 180,
   "id": "eb8a3f83",
   "metadata": {},
   "outputs": [
    {
     "data": {
      "text/plain": [
       "country                     50\n",
       "area                       455\n",
       "location                   540\n",
       "activity                   544\n",
       "name                       210\n",
       "sex_                       565\n",
       "age                       2831\n",
       "injury                      28\n",
       "fatal_(y/n)                539\n",
       "time                      3354\n",
       "species_                  2838\n",
       "investigator_or_source      17\n",
       "href_formula                 1\n",
       "dtype: int64"
      ]
     },
     "execution_count": 180,
     "metadata": {},
     "output_type": "execute_result"
    }
   ],
   "source": [
    "\n",
    "nan_cols=sss.isna().sum()\n",
    "nan_cols[nan_cols>0]   "
   ]
  },
  {
   "cell_type": "code",
   "execution_count": 181,
   "id": "d786a5b2",
   "metadata": {},
   "outputs": [],
   "source": [
    "sss4=sss.copy()"
   ]
  },
  {
   "cell_type": "code",
   "execution_count": 182,
   "id": "31530d91",
   "metadata": {},
   "outputs": [
    {
     "name": "stdout",
     "output_type": "stream",
     "text": [
      "<class 'pandas.core.frame.DataFrame'>\n",
      "Int64Index: 6302 entries, 0 to 6301\n",
      "Data columns (total 18 columns):\n",
      " #   Column                  Non-Null Count  Dtype  \n",
      "---  ------                  --------------  -----  \n",
      " 0   case_number             6302 non-null   object \n",
      " 1   year                    6302 non-null   object \n",
      " 2   typess                  6302 non-null   object \n",
      " 3   country                 6252 non-null   object \n",
      " 4   area                    5847 non-null   object \n",
      " 5   location                5762 non-null   object \n",
      " 6   activity                5758 non-null   object \n",
      " 7   name                    6092 non-null   object \n",
      " 8   sex_                    5737 non-null   object \n",
      " 9   age                     3471 non-null   object \n",
      " 10  injury                  6274 non-null   object \n",
      " 11  fatal_(y/n)             5763 non-null   object \n",
      " 12  time                    2948 non-null   object \n",
      " 13  species_                3464 non-null   object \n",
      " 14  investigator_or_source  6285 non-null   object \n",
      " 15  pdf                     6302 non-null   object \n",
      " 16  href_formula            6301 non-null   object \n",
      " 17  original_order          6302 non-null   float64\n",
      "dtypes: float64(1), object(17)\n",
      "memory usage: 7.3 MB\n"
     ]
    }
   ],
   "source": [
    "for country in sss.select_dtypes('category').columns:\n",
    "    \n",
    "    sss[country]=sss[country].astype('object')\n",
    "    \n",
    "sss.info(memory_usage='deep')"
   ]
  },
  {
   "cell_type": "code",
   "execution_count": 183,
   "id": "5c93a4b3",
   "metadata": {},
   "outputs": [],
   "source": [
    "sss.country.fillna('UNKNOWN', inplace=True) #relleno los nulos con unknown"
   ]
  },
  {
   "cell_type": "code",
   "execution_count": 184,
   "id": "a7e8b7e5",
   "metadata": {},
   "outputs": [],
   "source": [
    "sss.country= sss.country.str.replace('?', '')#quito los caracteres que no me gustan....ose una interrogacion\n"
   ]
  },
  {
   "cell_type": "code",
   "execution_count": 185,
   "id": "6c74c1cd",
   "metadata": {},
   "outputs": [],
   "source": [
    "sss['country']=sss['country'].str.upper()#trnasformo en mayusculas\n"
   ]
  },
  {
   "cell_type": "markdown",
   "id": "c10d2d46",
   "metadata": {},
   "source": [
    "# 7. Proceso limpieza columna area:\n",
    "\n",
    "-Esta columna tiene 455 valores nulos que voy a sustituir por unknown unicamente."
   ]
  },
  {
   "cell_type": "code",
   "execution_count": 186,
   "id": "87419880",
   "metadata": {},
   "outputs": [
    {
     "data": {
      "text/plain": [
       "area                       455\n",
       "location                   540\n",
       "activity                   544\n",
       "name                       210\n",
       "sex_                       565\n",
       "age                       2831\n",
       "injury                      28\n",
       "fatal_(y/n)                539\n",
       "time                      3354\n",
       "species_                  2838\n",
       "investigator_or_source      17\n",
       "href_formula                 1\n",
       "dtype: int64"
      ]
     },
     "execution_count": 186,
     "metadata": {},
     "output_type": "execute_result"
    }
   ],
   "source": [
    "nan_cols=sss.isna().sum()\n",
    "nan_cols[nan_cols>0]"
   ]
  },
  {
   "cell_type": "code",
   "execution_count": 187,
   "id": "fc8db457",
   "metadata": {},
   "outputs": [],
   "source": [
    "#area\n",
    "sss.area.fillna('Unknown', inplace=True)"
   ]
  },
  {
   "cell_type": "code",
   "execution_count": 188,
   "id": "96fd18dd",
   "metadata": {},
   "outputs": [
    {
     "data": {
      "text/plain": [
       "0         California\n",
       "1            Georgia\n",
       "2             Hawaii\n",
       "3    New South Wales\n",
       "4             Colima\n",
       "Name: area, dtype: object"
      ]
     },
     "execution_count": 188,
     "metadata": {},
     "output_type": "execute_result"
    }
   ],
   "source": [
    "sss.area.head() "
   ]
  },
  {
   "cell_type": "markdown",
   "id": "9da3af23",
   "metadata": {},
   "source": [
    "# 8.Proceso limpieza columna Location:\n",
    "\n",
    "-Solo modifico los valores nulos por unknown"
   ]
  },
  {
   "cell_type": "code",
   "execution_count": 189,
   "id": "99ee22d7",
   "metadata": {},
   "outputs": [],
   "source": [
    "#location, a estas no pienso hacer nada\n",
    "sss.location.fillna('Unknown', inplace=True)"
   ]
  },
  {
   "cell_type": "code",
   "execution_count": 190,
   "id": "b0366b26",
   "metadata": {},
   "outputs": [
    {
     "data": {
      "text/plain": [
       "activity                   544\n",
       "name                       210\n",
       "sex_                       565\n",
       "age                       2831\n",
       "injury                      28\n",
       "fatal_(y/n)                539\n",
       "time                      3354\n",
       "species_                  2838\n",
       "investigator_or_source      17\n",
       "href_formula                 1\n",
       "dtype: int64"
      ]
     },
     "execution_count": 190,
     "metadata": {},
     "output_type": "execute_result"
    }
   ],
   "source": [
    "nan_cols=sss.isna().sum()\n",
    "nan_cols[nan_cols>0]"
   ]
  },
  {
   "cell_type": "markdown",
   "id": "92058889",
   "metadata": {},
   "source": [
    "# 9.Proceso de limpieza columna Activity:\n",
    "\n",
    "-La columna activity tiene 544 nulos que voy a sustituir por unknown y muchísimos valores unicos que se pueden agrupar para poder reducirlos.\n"
   ]
  },
  {
   "cell_type": "code",
   "execution_count": 191,
   "id": "0f7ad935",
   "metadata": {},
   "outputs": [],
   "source": [
    "\n",
    "sss.activity.fillna('Unknown', inplace=True)"
   ]
  },
  {
   "cell_type": "code",
   "execution_count": 192,
   "id": "88141b1a",
   "metadata": {},
   "outputs": [
    {
     "data": {
      "text/plain": [
       "name                       210\n",
       "sex_                       565\n",
       "age                       2831\n",
       "injury                      28\n",
       "fatal_(y/n)                539\n",
       "time                      3354\n",
       "species_                  2838\n",
       "investigator_or_source      17\n",
       "href_formula                 1\n",
       "dtype: int64"
      ]
     },
     "execution_count": 192,
     "metadata": {},
     "output_type": "execute_result"
    }
   ],
   "source": [
    "nan_cols=sss.isna().sum()\n",
    "nan_cols[nan_cols>0]"
   ]
  },
  {
   "cell_type": "code",
   "execution_count": 193,
   "id": "7a09cbef",
   "metadata": {},
   "outputs": [
    {
     "data": {
      "text/plain": [
       "1532"
      ]
     },
     "execution_count": 193,
     "metadata": {},
     "output_type": "execute_result"
    }
   ],
   "source": [
    "len(sss[\"activity\"].unique())"
   ]
  },
  {
   "cell_type": "code",
   "execution_count": 194,
   "id": "31aea54f",
   "metadata": {},
   "outputs": [],
   "source": [
    "def cleanact(x):\n",
    "    dicc_actividades = {\"Fishing\":re.search(\".*[Ff](ishing|ISHING).*\",str(x)),\n",
    "                    \"Swimming\":re.search(\".*[Ss](wimming|WIMMing).*\",str(x)),\n",
    "                    \"Kite\":re.search(\".*[Kk](ite|ITE).*\",str(x)),\n",
    "                    \"Walking\":re.search(\".*[Ww](alking|ALKING).*\",str(x)),\n",
    "                    \"Boogie Board\":re.search(\".*[Bb](oogie|OOGIE).*\",str(x)),\n",
    "                    \"Body Boarding\":re.search(\".*[Bb](ody|ODY).*\",str(x)),\n",
    "                    \"Wind Surfing\":re.search(\".*[wW](ind|IND).*\",str(x)),\n",
    "                    \"Boat\":re.search(\".*[Bb](oat|OAT).*\",str(x)),\n",
    "                    \"Interact with sharks\":re.search(\".*[Ss](hark|HARK).*\",str(x)),\n",
    "                    \"Diving\":re.search(\".*[Dd](iving|IVING).*\",str(x)),\n",
    "                    \"Standing in water\":re.search(\".*[Ss](tand|TAND).*\",str(x)),\n",
    "                    \"Paddling\":re.search(\".*[Pp](addl|ADDL).*\",str(x)),\n",
    "                    \"Bathing\":re.search(\".*[Bb](athing|ATHING).*\",str(x)),\n",
    "                    \"OverBoard\":re.search(\".*[Oo](verb|VERB).*\",str(x)),\n",
    "                    \"Bathing\":re.search(\".*[Bb](athing|ATHING).*\",str(x)),\n",
    "                    \"Floating\":re.search(\".*[Ff](loat|LOAT).*\",str(x)),\n",
    "                    \"Jumping\":re.search(\".*[Jj](ump|UMP).*\",str(x))}\n",
    "\n",
    "    \n",
    "    for key,values in dicc_actividades.items():\n",
    "        if values:\n",
    "            return key\n",
    "    return \"other\""
   ]
  },
  {
   "cell_type": "code",
   "execution_count": 195,
   "id": "9b9decf6",
   "metadata": {},
   "outputs": [],
   "source": [
    "sss[\"activity\"] = sss[\"activity\"].apply(cleanact)"
   ]
  },
  {
   "cell_type": "code",
   "execution_count": 196,
   "id": "0a1ff8eb",
   "metadata": {},
   "outputs": [
    {
     "data": {
      "text/plain": [
       "array(['Paddling', 'Standing in water', 'other', 'Diving', 'Kite',\n",
       "       'Swimming', 'Fishing', 'Walking', 'Interact with sharks',\n",
       "       'Boogie Board', 'Body Boarding', 'Wind Surfing', 'Boat', 'Bathing',\n",
       "       'Floating', 'Jumping', 'OverBoard'], dtype=object)"
      ]
     },
     "execution_count": 196,
     "metadata": {},
     "output_type": "execute_result"
    }
   ],
   "source": [
    "sss.activity.unique()"
   ]
  },
  {
   "cell_type": "markdown",
   "id": "8590fd1e",
   "metadata": {},
   "source": [
    "# 10. Proceso limpieza columna name:\n",
    "\n",
    "-En esta columna voy a sustituir los valores nulos por unknown.\n",
    "-Mientras realizo este proceso me doy cuenta que hay muchos valores que pone female o male y los modifico por unknown. Más tarde me doy cuenta de que ademas de female o male hay muchos valores que ponen otras cosas...por lo que aplico otra funcion porteriormente(pese a que igual podría haberlo hecho en una) que me modifique todos los valores que no empiecen por mayúsculas por unknonw..."
   ]
  },
  {
   "cell_type": "code",
   "execution_count": 197,
   "id": "0736f804",
   "metadata": {},
   "outputs": [],
   "source": [
    "#name:\n",
    "#name tiene muchoos nulos y muchos female y male\n",
    "sss.name.fillna('Unknown', inplace=True)"
   ]
  },
  {
   "cell_type": "code",
   "execution_count": 198,
   "id": "0251e323",
   "metadata": {},
   "outputs": [
    {
     "data": {
      "text/plain": [
       "sex_                       565\n",
       "age                       2831\n",
       "injury                      28\n",
       "fatal_(y/n)                539\n",
       "time                      3354\n",
       "species_                  2838\n",
       "investigator_or_source      17\n",
       "href_formula                 1\n",
       "dtype: int64"
      ]
     },
     "execution_count": 198,
     "metadata": {},
     "output_type": "execute_result"
    }
   ],
   "source": [
    "nan_cols=sss.isna().sum()\n",
    "nan_cols[nan_cols>0]"
   ]
  },
  {
   "cell_type": "code",
   "execution_count": 199,
   "id": "56dbd1a9",
   "metadata": {},
   "outputs": [],
   "source": [
    "def nombres(x):\n",
    "    \n",
    "        if x=='male':\n",
    "            return 'Unkwnon'\n",
    "        elif x=='female':\n",
    "            return 'Unkwnon'   \n",
    "        else:\n",
    "            return x"
   ]
  },
  {
   "cell_type": "code",
   "execution_count": 200,
   "id": "adcbd5f2",
   "metadata": {},
   "outputs": [],
   "source": [
    "sss[\"name\"] = sss[\"name\"].apply(nombres)"
   ]
  },
  {
   "cell_type": "code",
   "execution_count": 201,
   "id": "dec14851",
   "metadata": {},
   "outputs": [],
   "source": [
    "def nombres(name):\n",
    "        if re.search(\"^[A-Z].+\",str(name)):\n",
    "            return name\n",
    "        else:\n",
    "            return 'unknown'"
   ]
  },
  {
   "cell_type": "code",
   "execution_count": 202,
   "id": "58f8f02d",
   "metadata": {},
   "outputs": [],
   "source": [
    "sss[\"name\"] = sss[\"name\"].apply(nombres)"
   ]
  },
  {
   "cell_type": "code",
   "execution_count": 203,
   "id": "f67e8f34",
   "metadata": {},
   "outputs": [
    {
     "data": {
      "text/plain": [
       "0        Julie Wolfe\n",
       "1    Adyson�McNeely \n",
       "2        John Denges\n",
       "3            Unkwnon\n",
       "4     Gustavo Ramos \n",
       "Name: name, dtype: object"
      ]
     },
     "execution_count": 203,
     "metadata": {},
     "output_type": "execute_result"
    }
   ],
   "source": [
    "sss.name.head()"
   ]
  },
  {
   "cell_type": "markdown",
   "id": "e92bf09c",
   "metadata": {},
   "source": [
    "# 11.Proceso limpieza columna sex:\n",
    "\n",
    "-Cambio los valores nulos por unknown.\n",
    "\n",
    "-Reemplazo los valores unicos para que solo me den F, M o Unknown."
   ]
  },
  {
   "cell_type": "code",
   "execution_count": 204,
   "id": "c73abf0f",
   "metadata": {},
   "outputs": [],
   "source": [
    "sss.sex_.fillna('Unknown', inplace=True)"
   ]
  },
  {
   "cell_type": "code",
   "execution_count": 205,
   "id": "a538da91",
   "metadata": {},
   "outputs": [
    {
     "data": {
      "text/plain": [
       "array(['F', 'M', 'Unknown', 'M ', 'lli', 'N', '.'], dtype=object)"
      ]
     },
     "execution_count": 205,
     "metadata": {},
     "output_type": "execute_result"
    }
   ],
   "source": [
    "sss.sex_.unique()"
   ]
  },
  {
   "cell_type": "code",
   "execution_count": 206,
   "id": "e0ab95dd",
   "metadata": {},
   "outputs": [],
   "source": [
    "sss.sex_.replace(['F','M','Unknown','M ','lli','N','.'],\n",
    "                        ['F','M','Unknown','M','Unknown','Unknown','Unknown'],\n",
    "                        inplace=True)"
   ]
  },
  {
   "cell_type": "code",
   "execution_count": 207,
   "id": "d33f484a",
   "metadata": {},
   "outputs": [
    {
     "data": {
      "text/plain": [
       "array(['F', 'M', 'Unknown'], dtype=object)"
      ]
     },
     "execution_count": 207,
     "metadata": {},
     "output_type": "execute_result"
    }
   ],
   "source": [
    "sss.sex_.unique()"
   ]
  },
  {
   "cell_type": "markdown",
   "id": "56684e4d",
   "metadata": {},
   "source": [
    "# 12.Proceso de limpieza age:\n",
    "\n",
    "-Age tiene 2800 valores nulos que voy a sustituit por unknown.\n",
    "\n",
    "-Después procedere a sustituir los valores que estan mal por unknown o por lo que cosidere...tendría que haberlo hecho con una funcion ya que resultaron ser bastantes más de los que creía."
   ]
  },
  {
   "cell_type": "code",
   "execution_count": 208,
   "id": "3a941e83",
   "metadata": {},
   "outputs": [
    {
     "data": {
      "text/plain": [
       "array(['57', '11', '48', nan, '18', '52', '15', '12', '32', '10', '21',\n",
       "       '34', '30', '60', '33', '29', '54', '41', '37', '56', '19', '25',\n",
       "       '69', '38', '55', '35', '46', '45', '14', '40s', '28', '20', '24',\n",
       "       '26', '49', '22', '7', '31', '17', '40', '13', '42', '3', '8',\n",
       "       '50', '16', '82', '73', '20s', '68', '51', '39', '58', 'Teen',\n",
       "       '47', '61', '65', '36', '66', '43', '60s', '9', '72', '59', '6',\n",
       "       '27', '64', '23', '71', '44', '62', '63', '70', '18 months', '53',\n",
       "       '30s', '50s', 'teen', '77', '74', '28 & 26', '5', '86', '18 or 20',\n",
       "       '12 or 13', '46 & 34', '28, 23 & 30', 'Teens', '36 & 26',\n",
       "       '8 or 10', '84', '� ', ' ', '30 or 36', '6�', '21 & ?', '75',\n",
       "       '33 or 37', 'mid-30s', '23 & 20', ' 30', '7      &    31', ' 28',\n",
       "       '20?', \"60's\", '32 & 30', '16 to 18', '87', '67', 'Elderly',\n",
       "       'mid-20s', 'Ca. 33', '74 ', '45 ', '21 or 26', '20 ', '>50',\n",
       "       '18 to 22', 'adult', '9 & 12', '? & 19', '9 months', '25 to 35',\n",
       "       '23 & 26', '1', '(adult)', '33 & 37', '25 or 28',\n",
       "       '37, 67, 35, 27,  ? & 27', '21, 34,24 & 35', '30 & 32', '50 & 30',\n",
       "       '17 & 35', 'X', '\"middle-age\"', '13 or 18', '34 & 19', '33 & 26',\n",
       "       '2 to 3 months', 'MAKE LINE GREEN', ' 43', '81', '\"young\"',\n",
       "       '7 or 8', '78', '17 & 16', 'F', 'Both 11', '9 or 10', 'young',\n",
       "       '36 & 23', '  ', 'A.M.', '?    &   14', '10 or 12', '31 or 33',\n",
       "       '2�', '13 or 14'], dtype=object)"
      ]
     },
     "execution_count": 208,
     "metadata": {},
     "output_type": "execute_result"
    }
   ],
   "source": [
    "sss.age.unique()"
   ]
  },
  {
   "cell_type": "code",
   "execution_count": 209,
   "id": "0819958f",
   "metadata": {},
   "outputs": [],
   "source": [
    "#lo primero modifico los valores nulos\n",
    "sss.age.fillna('Unknown', inplace=True)"
   ]
  },
  {
   "cell_type": "code",
   "execution_count": 210,
   "id": "1bfd4ca4",
   "metadata": {},
   "outputs": [],
   "source": [
    "#ahora voy a modificar todos los valores que no son los que yo quiero....esto seguro que se puede hacer de otra manera pero...\n",
    "sss.age.replace(['40s','20s', 'Teen','60s', '18 months','30s', '50s','18 or 20',\n",
    "       '12 or 13','Teens','8 or 10','� ', ' ', '30 or 36', '6�', '21 & ?','33 or 37', 'mid-30s', '7      &    31', ' 28',\n",
    "       '20?', \"60's\", '16 to 18','Elderly','mid-20s', 'Ca. 33','21 or 26','>50','18 to 22', 'adult','? & 19', '9 months',\n",
    "       '25 to 35','(adult)','25 or 28','? & 27','X', '\"middle-age\"', '13 or 18', '2 to 3 months', 'MAKE LINE GREEN', ' 43',\n",
    "       '\"young\"','7 or 8','F', 'Both 11', '9 or 10', 'young','  ', 'A.M.', '?    &   14', '10 or 12', '31 or 33',\n",
    "       '2�', '13 or 14'],\n",
    "        ['40','20', 'aprox.15','60', '1.5','30', '50','19','12.5','aprox.15','9','Unknown', 'Unknown', '33', '6', \n",
    "         '21 & Unknown','35', 'aprox.30', '7&31', '28','20', \"60\", '17','aprox 75','aprox.20', '33','23',\n",
    "         '50','20', 'aprox 40','Unknown & 19', '0.75','30','aprox.40','27','Unknown & 27','Unknown',\n",
    "         'aprox 40', '16', '0.25', 'Unknown', '43','aprox25','7.5','Unknown', '11', '9.5', 'aprox.25','Unknown',\n",
    "         'Unknown', 'Unknown & 14', '11', '32','2', '13.5'],\n",
    "                        inplace=True)"
   ]
  },
  {
   "cell_type": "code",
   "execution_count": 216,
   "id": "b50e77e9",
   "metadata": {},
   "outputs": [
    {
     "data": {
      "text/plain": [
       "0         57\n",
       "1         11\n",
       "2         48\n",
       "3    Unknown\n",
       "4    Unknown\n",
       "Name: age, dtype: object"
      ]
     },
     "execution_count": 216,
     "metadata": {},
     "output_type": "execute_result"
    }
   ],
   "source": [
    "sss.age.head()"
   ]
  },
  {
   "cell_type": "markdown",
   "id": "d852434d",
   "metadata": {},
   "source": [
    "# 13. Proceso de limpieza de columna href:\n",
    "\n",
    "-La columna herf solo tiene un valor nulo, pero luego revisandola me di cuanta que habia valores que no coincidian con enlaces a paginas web por lo que elaboré una función para sustituir esos valores también por unknown."
   ]
  },
  {
   "cell_type": "code",
   "execution_count": 217,
   "id": "82418d5e",
   "metadata": {},
   "outputs": [],
   "source": [
    "#nan_cols=sss.isna().sum()\n",
    "#nan_cols[nan_cols>0]"
   ]
  },
  {
   "cell_type": "code",
   "execution_count": 218,
   "id": "3152beb5",
   "metadata": {},
   "outputs": [
    {
     "data": {
      "text/plain": [
       "Int64Index([3244], dtype='int64')"
      ]
     },
     "execution_count": 218,
     "metadata": {},
     "output_type": "execute_result"
    }
   ],
   "source": [
    "mal=sss.href_formula[sss.href_formula.isna()].index\n",
    "mal"
   ]
  },
  {
   "cell_type": "code",
   "execution_count": 219,
   "id": "a9af2581",
   "metadata": {},
   "outputs": [
    {
     "data": {
      "text/plain": [
       "injury                      28\n",
       "fatal_(y/n)                539\n",
       "time                      3354\n",
       "species_                  2838\n",
       "investigator_or_source      17\n",
       "dtype: int64"
      ]
     },
     "execution_count": 219,
     "metadata": {},
     "output_type": "execute_result"
    }
   ],
   "source": [
    "sss.href_formula.fillna('Unknown', inplace=True)\n",
    "nan_cols=sss.isna().sum()\n",
    "nan_cols[nan_cols>0]"
   ]
  },
  {
   "cell_type": "code",
   "execution_count": 220,
   "id": "6274b5b4",
   "metadata": {},
   "outputs": [],
   "source": [
    "def htpp(x):\n",
    "    if re.search(\"^https?://\",str(x)):\n",
    "        return x\n",
    "    else:\n",
    "        return 'Unknown'\n",
    "        "
   ]
  },
  {
   "cell_type": "code",
   "execution_count": 221,
   "id": "282e6101",
   "metadata": {},
   "outputs": [],
   "source": [
    "sss[\"href_formula\"] = sss[\"href_formula\"].apply(htpp)"
   ]
  },
  {
   "cell_type": "code",
   "execution_count": 222,
   "id": "2c3e0808",
   "metadata": {},
   "outputs": [
    {
     "data": {
      "text/plain": [
       "0    http://sharkattackfile.net/spreadsheets/pdf_di...\n",
       "1    http://sharkattackfile.net/spreadsheets/pdf_di...\n",
       "2    http://sharkattackfile.net/spreadsheets/pdf_di...\n",
       "3    http://sharkattackfile.net/spreadsheets/pdf_di...\n",
       "4    http://sharkattackfile.net/spreadsheets/pdf_di...\n",
       "Name: href_formula, dtype: object"
      ]
     },
     "execution_count": 222,
     "metadata": {},
     "output_type": "execute_result"
    }
   ],
   "source": [
    "sss.href_formula.head()"
   ]
  },
  {
   "cell_type": "markdown",
   "id": "1fa02654",
   "metadata": {},
   "source": [
    "# 14.Proceso de limpieza columna fatal:\n",
    "\n",
    "-Sustituyo los valores nulos por unknown.\n",
    "\n",
    "-Unifico los valores únicos en tres caterorías, Y, N y UNKNOWN."
   ]
  },
  {
   "cell_type": "code",
   "execution_count": 224,
   "id": "7dcd8315",
   "metadata": {},
   "outputs": [],
   "source": [
    "#nan_cols=sss.isna().sum()\n",
    "#nan_cols[nan_cols>0]"
   ]
  },
  {
   "cell_type": "code",
   "execution_count": 225,
   "id": "e53899cb",
   "metadata": {},
   "outputs": [],
   "source": [
    "sss.rename(columns = {'fatal_(y/n)':'fatality'}, inplace = True) #le cambio el nombre xq no se xq no me funcionaba"
   ]
  },
  {
   "cell_type": "code",
   "execution_count": 226,
   "id": "36575ff1",
   "metadata": {},
   "outputs": [
    {
     "data": {
      "text/plain": [
       "Index(['case_number', 'year', 'typess', 'country', 'area', 'location',\n",
       "       'activity', 'name', 'sex_', 'age', 'injury', 'fatality', 'time',\n",
       "       'species_', 'investigator_or_source', 'pdf', 'href_formula',\n",
       "       'original_order'],\n",
       "      dtype='object')"
      ]
     },
     "execution_count": 226,
     "metadata": {},
     "output_type": "execute_result"
    }
   ],
   "source": [
    "sss.columns"
   ]
  },
  {
   "cell_type": "code",
   "execution_count": 227,
   "id": "2f4ff6d3",
   "metadata": {},
   "outputs": [],
   "source": [
    "sss.fatality.fillna('UNKNOWN', inplace=True)#los modifico para que solo sea yes=Y no=N y Unknown, primero sustituyo los NAN"
   ]
  },
  {
   "cell_type": "code",
   "execution_count": 228,
   "id": "33c033ae",
   "metadata": {},
   "outputs": [],
   "source": [
    "sss.fatality.replace(['N','Y','M','UNKNOWN','2017',' N','N ','y'],\n",
    "                ['N','Y','UNKNOWN','UNKNOWN','UNKNOWN','N','N','Y'], inplace=True)"
   ]
  },
  {
   "cell_type": "code",
   "execution_count": 229,
   "id": "40e5c987",
   "metadata": {},
   "outputs": [
    {
     "data": {
      "text/plain": [
       "array(['N', 'Y', 'UNKNOWN'], dtype=object)"
      ]
     },
     "execution_count": 229,
     "metadata": {},
     "output_type": "execute_result"
    }
   ],
   "source": [
    "sss.fatality.unique()"
   ]
  },
  {
   "cell_type": "markdown",
   "id": "5999b9c1",
   "metadata": {},
   "source": [
    "# 15.Proceso limpieza columna investigator:\n",
    "-En esta no me lio mucho, ni me interesa ni voy a modificar nada, los valores nulos por unknown y listo."
   ]
  },
  {
   "cell_type": "code",
   "execution_count": 231,
   "id": "aaad9414",
   "metadata": {},
   "outputs": [],
   "source": [
    "#nan_cols=sss.isna().sum()\n",
    "#nan_cols[nan_cols>0]"
   ]
  },
  {
   "cell_type": "code",
   "execution_count": 232,
   "id": "c66397c4",
   "metadata": {},
   "outputs": [],
   "source": [
    "sss.investigator_or_source.fillna('Unknown', inplace=True)"
   ]
  },
  {
   "cell_type": "code",
   "execution_count": 233,
   "id": "9dc97113",
   "metadata": {},
   "outputs": [
    {
     "data": {
      "text/plain": [
       "injury        28\n",
       "time        3354\n",
       "species_    2838\n",
       "dtype: int64"
      ]
     },
     "execution_count": 233,
     "metadata": {},
     "output_type": "execute_result"
    }
   ],
   "source": [
    "#INJURY\n",
    "nan_cols=sss.isna().sum()\n",
    "nan_cols[nan_cols>0]"
   ]
  },
  {
   "cell_type": "markdown",
   "id": "ce945978",
   "metadata": {},
   "source": [
    "# 16.Proceso limpieza columna injury:\n",
    "\n",
    "-Primero sustituyo los nulos por unknown.\n",
    "\n",
    "-Esta columna tiene muchísimos valores únicos y mal definidos, por lo que creo una función que me permita agruparlos todos o al menos agruparlos en un rango menor de valores."
   ]
  },
  {
   "cell_type": "code",
   "execution_count": 234,
   "id": "50fce864",
   "metadata": {},
   "outputs": [
    {
     "data": {
      "text/plain": [
       "['No injury to occupant, outrigger canoe and paddle damaged',\n",
       " 'Minor injury to left thigh',\n",
       " 'Injury to left lower leg from surfboard skeg',\n",
       " 'Minor injury to lower leg',\n",
       " 'Lacerations to leg & hand shark PROVOKED INCIDENT',\n",
       " 'No injury, board bitten',\n",
       " 'FATAL',\n",
       " 'Minor injury to foot. PROVOKED INCIDENT',\n",
       " 'Lower left leg bitten',\n",
       " 'Minor injury to foot']"
      ]
     },
     "execution_count": 234,
     "metadata": {},
     "output_type": "execute_result"
    }
   ],
   "source": [
    "sss.injury.unique().tolist()[:10]\n"
   ]
  },
  {
   "cell_type": "code",
   "execution_count": 235,
   "id": "db1f9248",
   "metadata": {},
   "outputs": [],
   "source": [
    "sss.injury.fillna('Unknown', inplace=True)"
   ]
  },
  {
   "cell_type": "code",
   "execution_count": 236,
   "id": "bb0de702",
   "metadata": {},
   "outputs": [
    {
     "data": {
      "text/plain": [
       "time        3354\n",
       "species_    2838\n",
       "dtype: int64"
      ]
     },
     "execution_count": 236,
     "metadata": {},
     "output_type": "execute_result"
    }
   ],
   "source": [
    "nan_cols=sss.isna().sum()\n",
    "nan_cols[nan_cols>0]"
   ]
  },
  {
   "cell_type": "code",
   "execution_count": 237,
   "id": "668d767d",
   "metadata": {},
   "outputs": [],
   "source": [
    "\n",
    "def limpiar_injury(x):\n",
    "    dicc_injurys = {\"No Injury\":re.search(\".*[Nn](o|O)\\s*[Ii](njury|NJURY).*\",str(x)),\n",
    "                    \"Minor Injury\":re.search(\".*[Mm](inor|INOR).*\",str(x)),\n",
    "                    \"Fatal\":re.search(\".*[Ff](atal|ATAL).*\",str(x)),\n",
    "                    \"Cuts\":re.search(\".*[Cc](uts|UTS).*\",str(x)),\n",
    "                    \"Laceration\":re.search(\".*[Ll](aceration|ACERACION).*\" or \".*[Aa](brasion|BRASION).*\",str(x)),\n",
    "                    \"Bitten\":re.search(\".*[Bb](itten|ITTEN).*\" or \".*[Bb](ite|ITE).*\"or\".*[Nn](ipped|IPPED).*\",str(x)),\n",
    "                    \"Puncture wounds\":re.search(\".*[Pp](uncture|UNCTURE).*\",str(x)),\n",
    "                    \"Injury in  leg\":re.search(\".*[Ii](njury|NJURY).*\"and\".*[Ll](eg|EG).*\",str(x)),\n",
    "                    \"Injury in hand\":re.search(\".*[Ii](njury|NJURY).*\"and\".*[Hh](and|AND).*\",str(x)),\n",
    "                    \"Injury in arm\":re.search(\".*[Ii](njury|NJURY).*\" and \".*[Aa](rm|RM).*\",str(x)),\n",
    "                    \"Injury in ankle\":re.search(\".*[Ii](njury|NJURY).*\" and \".*[Aa](nkle|nkle).*\",str(x)),\n",
    "                    \"Injury in foot\":re.search(\".*[Ii](njury|NJURY).*\" and \".*[Ff](oot|OOT).*\",str(x)),\n",
    "                    \"Injury in calf\":re.search(\".*[Ii](njury|NJURY).*\" and \".*[Cc](alf|ALF).*\",str(x)),\n",
    "                    \"Broken bones \":re.search(\".*[Bb](roken|ROKEN).*\" or \".*[Bb](ones|ONES).*\",str(x)),\n",
    "                    \"Injury\":re.search(\".*[Ii](njury|NJURY).*\",str(x)),\n",
    "                    \"Collision\":re.search(\".*[Cc](ollision|OLLISION).*\" or \".*[Cc](ollided|OLLIDED).*\",str(x)),\n",
    "                    \"Severe Injury\":re.search(\".*[Ss](evere|EVERE).*\" or \".*[Ss](erius|ERIUS).*\" and \".*[Ii](njury|NJURY).*\",str(x))}\n",
    "\n",
    "    \n",
    "    for key,values in dicc_injurys.items():\n",
    "        if values:\n",
    "            return key\n",
    "        \n",
    "    return \"Unknown\""
   ]
  },
  {
   "cell_type": "code",
   "execution_count": 238,
   "id": "171dff7f",
   "metadata": {},
   "outputs": [],
   "source": [
    "sss[\"injury\"] = sss[\"injury\"].apply(limpiar_injury)"
   ]
  },
  {
   "cell_type": "code",
   "execution_count": 239,
   "id": "f103cffe",
   "metadata": {},
   "outputs": [
    {
     "data": {
      "text/plain": [
       "array(['No Injury', 'Minor Injury', 'Injury in  leg', 'Laceration',\n",
       "       'Fatal', 'Bitten', 'Injury in arm', 'Unknown', 'Injury in hand',\n",
       "       'Injury in ankle', 'Puncture wounds', 'Injury in foot',\n",
       "       'Injury in calf', 'Cuts', 'Injury', 'Broken bones ',\n",
       "       'Severe Injury', 'Collision'], dtype=object)"
      ]
     },
     "execution_count": 239,
     "metadata": {},
     "output_type": "execute_result"
    }
   ],
   "source": [
    "sss.injury.unique()"
   ]
  },
  {
   "cell_type": "markdown",
   "id": "951f29bb",
   "metadata": {},
   "source": [
    "# 17.Proceso de limpieza columna time:\n",
    "\n",
    "-Time es un dato con casi la mitad de los valores como nulos...si fuera por mi la borraba, uno porque no me sirve de nada para mi estudio e hipótsis y dos porque creo que una columna con la mitad de las valores nulos no puede ser utilizada para el estudio. No obstante no puedo borrarla por lo que simplemente sustituyo los nulos por Unknown  y creo una función para que me cambie todo lo que no sea estrictamente una hora(valor numérico) por unknown."
   ]
  },
  {
   "cell_type": "code",
   "execution_count": 240,
   "id": "b6261240",
   "metadata": {},
   "outputs": [],
   "source": [
    "sss.time.fillna('Unknown', inplace=True)"
   ]
  },
  {
   "cell_type": "code",
   "execution_count": 241,
   "id": "81e5a493",
   "metadata": {},
   "outputs": [],
   "source": [
    "#nan_cols=sss.isna().sum()\n",
    "#nan_cols[nan_cols>0]"
   ]
  },
  {
   "cell_type": "code",
   "execution_count": 242,
   "id": "6e72d371",
   "metadata": {},
   "outputs": [
    {
     "data": {
      "text/plain": [
       "0            18h00\n",
       "1    14h00  -15h00\n",
       "2            07h45\n",
       "3          Unknown\n",
       "4          Unknown\n",
       "Name: time, dtype: object"
      ]
     },
     "execution_count": 242,
     "metadata": {},
     "output_type": "execute_result"
    }
   ],
   "source": [
    "sss.time.head()"
   ]
  },
  {
   "cell_type": "code",
   "execution_count": 243,
   "id": "a4411c87",
   "metadata": {},
   "outputs": [],
   "source": [
    "def times(x):\n",
    "    if re.search(\"\\d+h\\d+\",str(x)):\n",
    "        return x\n",
    "    else:\n",
    "        return 'Unknown'\n",
    "        \n",
    "        "
   ]
  },
  {
   "cell_type": "code",
   "execution_count": 244,
   "id": "e2cf8369",
   "metadata": {},
   "outputs": [],
   "source": [
    "sss[\"time\"] = sss[\"time\"].apply(times)"
   ]
  },
  {
   "cell_type": "code",
   "execution_count": 245,
   "id": "51374e8e",
   "metadata": {},
   "outputs": [
    {
     "data": {
      "text/plain": [
       "0            18h00\n",
       "1    14h00  -15h00\n",
       "2            07h45\n",
       "3          Unknown\n",
       "4          Unknown\n",
       "Name: time, dtype: object"
      ]
     },
     "execution_count": 245,
     "metadata": {},
     "output_type": "execute_result"
    }
   ],
   "source": [
    "sss.time.head()"
   ]
  },
  {
   "cell_type": "markdown",
   "id": "23342a6b",
   "metadata": {},
   "source": [
    "# 18.Proceso de limpieza columna species:\n",
    "\n",
    "-Sustituyo los valores nulos por Unknown.\n",
    "\n",
    "-Reduzco el número de valores únicos a través de una función."
   ]
  },
  {
   "cell_type": "code",
   "execution_count": 246,
   "id": "a740f336",
   "metadata": {},
   "outputs": [],
   "source": [
    "#species\n",
    "sss.species_.fillna('Unknown', inplace=True)"
   ]
  },
  {
   "cell_type": "code",
   "execution_count": 247,
   "id": "1af9e880",
   "metadata": {},
   "outputs": [],
   "source": [
    "def limpiar_species(x):\n",
    "    dicc_especies = {\n",
    "            \"White shark\":re.search(\".*[Ww](hite|HITE).*\",str(x)),\n",
    "            \"Tiger shark\":re.search(\".*[Tt](iger|IGER).*\",str(x)),\n",
    "            \"Lemon shark\":re.search(\".*[Ll](emon|EMON).*\",str(x)),\n",
    "            \"Hammerhead shark\":re.search(\".*[Hh](ammerhead|AMMERHEAD).*\",str(x)),\n",
    "            \"Bull shark\":re.search(\".*[Bb](ull|ULL).*\",str(x)),\n",
    "            \"Blue shark\":re.search(\".*[Bb](lue|LUE).*\",str(x)),\n",
    "            \"Silvertip shark\":re.search(\".*[Ss](ilvertip|ILVERTIP).*\",str(x)),\n",
    "            \"Nurse shark\":re.search(\".*[Nn](urse|URSE).*\",str(x)),\n",
    "            \"Whaler shark\":re.search(\".*[Ww](haler|HALER).*\",str(x)),\n",
    "            \"Blacktip shark\":re.search(\".*[Bb](lacktip|LACKTIP).*\",str(x)),\n",
    "            \"Mako shark\":re.search(\".*[MM](ako|AKO).*\",str(x)),\n",
    "            \"Sand shark\":re.search(\".*[Ss](and|AMD).*\",str(x)),\n",
    "            \"Wobbegong shark\":re.search(\".*[Ww](obbegong|OBBEGONG).*\",str(x)),\n",
    "            \"Galapagos shark\":re.search(\".*[Gg](alapagos|ALAPAGOS).*\",str(x)),\n",
    "            \"Grey shark\":re.search(\".*[Gg](rey|REY).*\",str(x)),\n",
    "            \"Leopard shark\":re.search(\".*[Ll](eopard|EOPARD).*\",str(x)),\n",
    "            \"Zambesi shark\":re.search(\".*[Zz](ambesi|AMBESI).*\",str(x)),\n",
    "            \"Blacktail shark\":re.search(\".*[Bb](lacktail|LACKTAIL).*\",str(x)),\n",
    "            \"Red shark\":re.search(\".*[Rr](ed|ED).*\",str(x)),\n",
    "            \"Dusky shark\":re.search(\".*[Dd](usky|USKY).*\",str(x)),\n",
    "            \"Raggedtooth shark\":re.search(\".*[Rr](aggedtooth|AGGEDTOOTH).*\",str(x)),\n",
    "            \"Spinner shark\":re.search(\".*[Ss](pinner|PINNER).*\",str(x)),\n",
    "            \"Cow shark\":re.search(\".*[Cc](ow|OW).*\",str(x)),\n",
    "            \"Porbeagle shark\":re.search(\".*[Pp](orbeagle|ORBEAGLE).*\",str(x)),\n",
    "            \"Caribbean reef shark\":re.search(\".*[Cc](aribbean|ARIBBEAN).*\",str(x)),\n",
    "            \"Sandbar shark\":re.search(\".*[Ss](and|AND).*\",str(x)),\n",
    "            \"Silky shark\":re.search(\".*[Ss](ilky|ILKY).*\",str(x)),\n",
    "            \"Zambezi shark\":re.search(\".*[Zz](ambezi|AMBEZI).*\",str(x)),\n",
    "            \"Sevengill shark\":re.search(\".*[Ss](evengill|EVENGILL).*\",str(x)),\n",
    "            \"Copper shark\":re.search(\".*[Cc](opper|OPPER).*\",str(x)),\n",
    "            \"Angel shark\":re.search(\".*[Aa](ngel|NGEL)\\s\",str(x)),\n",
    "            \"Salmon shark\":re.search(\".*[Ss](almon|ALMON).*\",str(x)),\n",
    "            \"Goblin shark\":re.search(\".*[Gg](oblin|OBLIN).*\",str(x)),\n",
    "            \"Thresher shark\":re.search(\".*[Tt](hresher|HRESHER).*\",str(x)),\n",
    "            \"Dogfish shark\":re.search(\".*[Dd](ogfish|OGFISH).*\",str(x)),\n",
    "            \"Involvement not confirmed\":re.search(\"[^.?!]*involvement[^.?!]*\",str(x))}\n",
    "    for key,values in dicc_especies.items():\n",
    "        if values:\n",
    "            return key\n",
    "\n",
    "    return \"other_specie\"\n"
   ]
  },
  {
   "cell_type": "code",
   "execution_count": 248,
   "id": "4758e3ff",
   "metadata": {},
   "outputs": [],
   "source": [
    "sss[\"species_\"] = sss[\"species_\"].apply(limpiar_species)"
   ]
  },
  {
   "cell_type": "code",
   "execution_count": 249,
   "id": "9603a46e",
   "metadata": {},
   "outputs": [
    {
     "data": {
      "text/plain": [
       "array(['White shark', 'other_specie', 'Tiger shark', 'Lemon shark',\n",
       "       'Bull shark', 'Grey shark', 'Nurse shark',\n",
       "       'Involvement not confirmed', 'Wobbegong shark', 'Blacktip shark',\n",
       "       'Galapagos shark', 'Blue shark', 'Spinner shark',\n",
       "       'Porbeagle shark', 'Caribbean reef shark', 'Sevengill shark',\n",
       "       'Angel shark', 'Dogfish shark', 'Mako shark', 'Whaler shark',\n",
       "       'Silky shark', 'Hammerhead shark', 'Raggedtooth shark',\n",
       "       'Goblin shark', 'Sand shark', 'Cow shark', 'Salmon shark',\n",
       "       'Zambesi shark', 'Thresher shark', 'Dusky shark', 'Red shark',\n",
       "       'Copper shark', 'Leopard shark', 'Silvertip shark',\n",
       "       'Zambezi shark', 'Blacktail shark'], dtype=object)"
      ]
     },
     "execution_count": 249,
     "metadata": {},
     "output_type": "execute_result"
    }
   ],
   "source": [
    "sss.species_.unique()"
   ]
  },
  {
   "cell_type": "code",
   "execution_count": 250,
   "id": "02bb11b1",
   "metadata": {},
   "outputs": [
    {
     "data": {
      "text/plain": [
       "Series([], dtype: int64)"
      ]
     },
     "execution_count": 250,
     "metadata": {},
     "output_type": "execute_result"
    }
   ],
   "source": [
    "nan_cols=sss.isna().sum()\n",
    "nan_cols[nan_cols>0]"
   ]
  },
  {
   "cell_type": "code",
   "execution_count": 251,
   "id": "13e0a166",
   "metadata": {},
   "outputs": [],
   "source": [
    "sss.to_csv(r'C:\\Users\\Ari\\desktop\\ironhack\\Proyec-1-Pandas-Shark-attacks\\cleanattacks.csv', index=False)"
   ]
  },
  {
   "cell_type": "code",
   "execution_count": null,
   "id": "18ad786b",
   "metadata": {},
   "outputs": [],
   "source": []
  }
 ],
 "metadata": {
  "kernelspec": {
   "display_name": "Python 3 (ipykernel)",
   "language": "python",
   "name": "python3"
  },
  "language_info": {
   "codemirror_mode": {
    "name": "ipython",
    "version": 3
   },
   "file_extension": ".py",
   "mimetype": "text/x-python",
   "name": "python",
   "nbconvert_exporter": "python",
   "pygments_lexer": "ipython3",
   "version": "3.9.12"
  }
 },
 "nbformat": 4,
 "nbformat_minor": 5
}
