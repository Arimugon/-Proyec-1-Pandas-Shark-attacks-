{
 "cells": [
  {
   "cell_type": "code",
   "execution_count": 3,
   "id": "5c7beab3",
   "metadata": {},
   "outputs": [],
   "source": [
    "import csv\n",
    "import pandas as pd\n",
    "pd.set_option('display.max_columns', None)\n",
    "\n",
    "import numpy as np\n",
    "\n",
    "import warnings\n",
    "warnings.filterwarnings('ignore')\n",
    "\n",
    "\n",
    "# para pintar\n",
    "import pylab as plt\n",
    "import seaborn as sns\n",
    "\n",
    "#para que salga el grafico\n",
    "%matplotlib inline"
   ]
  },
  {
   "cell_type": "code",
   "execution_count": 2,
   "id": "26bbdfb9",
   "metadata": {},
   "outputs": [
    {
     "name": "stdout",
     "output_type": "stream",
     "text": [
      "Requirement already satisfied: ipython in c:\\users\\ari\\anaconda3\\lib\\site-packages (8.2.0)\n",
      "Requirement already satisfied: prompt-toolkit!=3.0.0,!=3.0.1,<3.1.0,>=2.0.0 in c:\\users\\ari\\anaconda3\\lib\\site-packages (from ipython) (3.0.20)\n",
      "Requirement already satisfied: traitlets>=5 in c:\\users\\ari\\anaconda3\\lib\\site-packages (from ipython) (5.1.1)\n",
      "Requirement already satisfied: matplotlib-inline in c:\\users\\ari\\anaconda3\\lib\\site-packages (from ipython) (0.1.2)\n",
      "Requirement already satisfied: stack-data in c:\\users\\ari\\anaconda3\\lib\\site-packages (from ipython) (0.2.0)\n",
      "Requirement already satisfied: setuptools>=18.5 in c:\\users\\ari\\anaconda3\\lib\\site-packages (from ipython) (61.2.0)\n",
      "Requirement already satisfied: colorama in c:\\users\\ari\\anaconda3\\lib\\site-packages (from ipython) (0.4.4)\n",
      "Requirement already satisfied: pygments>=2.4.0 in c:\\users\\ari\\anaconda3\\lib\\site-packages (from ipython) (2.11.2)\n",
      "Requirement already satisfied: pickleshare in c:\\users\\ari\\anaconda3\\lib\\site-packages (from ipython) (0.7.5)\n",
      "Requirement already satisfied: backcall in c:\\users\\ari\\anaconda3\\lib\\site-packages (from ipython) (0.2.0)\n",
      "Requirement already satisfied: jedi>=0.16 in c:\\users\\ari\\anaconda3\\lib\\site-packages (from ipython) (0.18.1)\n",
      "Requirement already satisfied: decorator in c:\\users\\ari\\anaconda3\\lib\\site-packages (from ipython) (5.1.1)\n",
      "Requirement already satisfied: parso<0.9.0,>=0.8.0 in c:\\users\\ari\\anaconda3\\lib\\site-packages (from jedi>=0.16->ipython) (0.8.3)\n",
      "Requirement already satisfied: wcwidth in c:\\users\\ari\\anaconda3\\lib\\site-packages (from prompt-toolkit!=3.0.0,!=3.0.1,<3.1.0,>=2.0.0->ipython) (0.2.5)\n",
      "Requirement already satisfied: asttokens in c:\\users\\ari\\anaconda3\\lib\\site-packages (from stack-data->ipython) (2.0.5)\n",
      "Requirement already satisfied: pure-eval in c:\\users\\ari\\anaconda3\\lib\\site-packages (from stack-data->ipython) (0.2.2)\n",
      "Requirement already satisfied: executing in c:\\users\\ari\\anaconda3\\lib\\site-packages (from stack-data->ipython) (0.8.3)\n",
      "Requirement already satisfied: six in c:\\users\\ari\\anaconda3\\lib\\site-packages (from asttokens->stack-data->ipython) (1.16.0)\n",
      "Note: you may need to restart the kernel to use updated packages.\n",
      "Requirement already satisfied: seaborn in c:\\users\\ari\\anaconda3\\lib\\site-packages (0.11.2)\n",
      "Requirement already satisfied: matplotlib>=2.2 in c:\\users\\ari\\anaconda3\\lib\\site-packages (from seaborn) (3.5.1)\n",
      "Requirement already satisfied: pandas>=0.23 in c:\\users\\ari\\anaconda3\\lib\\site-packages (from seaborn) (1.4.2)\n",
      "Requirement already satisfied: scipy>=1.0 in c:\\users\\ari\\anaconda3\\lib\\site-packages (from seaborn) (1.7.3)\n",
      "Requirement already satisfied: numpy>=1.15 in c:\\users\\ari\\anaconda3\\lib\\site-packages (from seaborn) (1.21.5)Note: you may need to restart the kernel to use updated packages.\n",
      "\n",
      "Requirement already satisfied: kiwisolver>=1.0.1 in c:\\users\\ari\\anaconda3\\lib\\site-packages (from matplotlib>=2.2->seaborn) (1.3.2)\n",
      "Requirement already satisfied: packaging>=20.0 in c:\\users\\ari\\anaconda3\\lib\\site-packages (from matplotlib>=2.2->seaborn) (21.3)\n",
      "Requirement already satisfied: cycler>=0.10 in c:\\users\\ari\\anaconda3\\lib\\site-packages (from matplotlib>=2.2->seaborn) (0.11.0)\n",
      "Requirement already satisfied: pillow>=6.2.0 in c:\\users\\ari\\anaconda3\\lib\\site-packages (from matplotlib>=2.2->seaborn) (9.0.1)\n",
      "Requirement already satisfied: pyparsing>=2.2.1 in c:\\users\\ari\\anaconda3\\lib\\site-packages (from matplotlib>=2.2->seaborn) (3.0.4)\n",
      "Requirement already satisfied: fonttools>=4.22.0 in c:\\users\\ari\\anaconda3\\lib\\site-packages (from matplotlib>=2.2->seaborn) (4.25.0)\n",
      "Requirement already satisfied: python-dateutil>=2.7 in c:\\users\\ari\\anaconda3\\lib\\site-packages (from matplotlib>=2.2->seaborn) (2.8.2)\n",
      "Requirement already satisfied: pytz>=2020.1 in c:\\users\\ari\\anaconda3\\lib\\site-packages (from pandas>=0.23->seaborn) (2021.3)\n",
      "Requirement already satisfied: six>=1.5 in c:\\users\\ari\\anaconda3\\lib\\site-packages (from python-dateutil>=2.7->matplotlib>=2.2->seaborn) (1.16.0)\n"
     ]
    }
   ],
   "source": [
    "%pip install ipython\n",
    "%pip install seaborn"
   ]
  },
  {
   "cell_type": "code",
   "execution_count": 16,
   "id": "37a07be6",
   "metadata": {},
   "outputs": [],
   "source": [
    "df = pd.read_csv(r'/Users/Ari/desktop/ironhack/Proyec-1-Pandas-Shark-attacks/cleanattacks.csv') "
   ]
  },
  {
   "cell_type": "code",
   "execution_count": 21,
   "id": "d8b2eb27",
   "metadata": {},
   "outputs": [
    {
     "data": {
      "text/plain": [
       "Index(['case_number', 'year', 'typess', 'country', 'area', 'location',\n",
       "       'activity', 'name', 'sex_', 'age', 'injury', 'fatality', 'time',\n",
       "       'species_', 'investigator_or_source', 'pdf', 'href_formula',\n",
       "       'original_order'],\n",
       "      dtype='object')"
      ]
     },
     "execution_count": 21,
     "metadata": {},
     "output_type": "execute_result"
    }
   ],
   "source": [
    "df.columns"
   ]
  },
  {
   "cell_type": "code",
   "execution_count": 17,
   "id": "d887ba04",
   "metadata": {},
   "outputs": [
    {
     "data": {
      "text/html": [
       "<div>\n",
       "<style scoped>\n",
       "    .dataframe tbody tr th:only-of-type {\n",
       "        vertical-align: middle;\n",
       "    }\n",
       "\n",
       "    .dataframe tbody tr th {\n",
       "        vertical-align: top;\n",
       "    }\n",
       "\n",
       "    .dataframe thead th {\n",
       "        text-align: right;\n",
       "    }\n",
       "</style>\n",
       "<table border=\"1\" class=\"dataframe\">\n",
       "  <thead>\n",
       "    <tr style=\"text-align: right;\">\n",
       "      <th></th>\n",
       "      <th>case_number</th>\n",
       "      <th>year</th>\n",
       "      <th>typess</th>\n",
       "      <th>country</th>\n",
       "      <th>area</th>\n",
       "      <th>location</th>\n",
       "      <th>activity</th>\n",
       "      <th>name</th>\n",
       "      <th>sex_</th>\n",
       "      <th>age</th>\n",
       "      <th>injury</th>\n",
       "      <th>fatality</th>\n",
       "      <th>time</th>\n",
       "      <th>species_</th>\n",
       "      <th>investigator_or_source</th>\n",
       "      <th>pdf</th>\n",
       "      <th>href_formula</th>\n",
       "      <th>original_order</th>\n",
       "    </tr>\n",
       "  </thead>\n",
       "  <tbody>\n",
       "    <tr>\n",
       "      <th>0</th>\n",
       "      <td>2018.06.25</td>\n",
       "      <td>2018</td>\n",
       "      <td>Boat</td>\n",
       "      <td>USA</td>\n",
       "      <td>California</td>\n",
       "      <td>Oceanside, San Diego County</td>\n",
       "      <td>Paddling</td>\n",
       "      <td>Julie Wolfe</td>\n",
       "      <td>F</td>\n",
       "      <td>57</td>\n",
       "      <td>No Injury</td>\n",
       "      <td>N</td>\n",
       "      <td>18h00</td>\n",
       "      <td>White shark</td>\n",
       "      <td>R. Collier, GSAF</td>\n",
       "      <td>2018.06.25-Wolfe.pdf</td>\n",
       "      <td>http://sharkattackfile.net/spreadsheets/pdf_di...</td>\n",
       "      <td>6303.0</td>\n",
       "    </tr>\n",
       "    <tr>\n",
       "      <th>1</th>\n",
       "      <td>2018.06.18</td>\n",
       "      <td>2018</td>\n",
       "      <td>Unprovoked</td>\n",
       "      <td>USA</td>\n",
       "      <td>Georgia</td>\n",
       "      <td>St. Simon Island, Glynn County</td>\n",
       "      <td>Standing in water</td>\n",
       "      <td>Adyson�McNeely</td>\n",
       "      <td>F</td>\n",
       "      <td>11</td>\n",
       "      <td>Minor Injury</td>\n",
       "      <td>N</td>\n",
       "      <td>14h00  -15h00</td>\n",
       "      <td>other_specie</td>\n",
       "      <td>K.McMurray, TrackingSharks.com</td>\n",
       "      <td>2018.06.18-McNeely.pdf</td>\n",
       "      <td>http://sharkattackfile.net/spreadsheets/pdf_di...</td>\n",
       "      <td>6302.0</td>\n",
       "    </tr>\n",
       "    <tr>\n",
       "      <th>2</th>\n",
       "      <td>2018.06.09</td>\n",
       "      <td>2018</td>\n",
       "      <td>Invalid</td>\n",
       "      <td>USA</td>\n",
       "      <td>Hawaii</td>\n",
       "      <td>Habush, Oahu</td>\n",
       "      <td>other</td>\n",
       "      <td>John Denges</td>\n",
       "      <td>M</td>\n",
       "      <td>48</td>\n",
       "      <td>Injury in  leg</td>\n",
       "      <td>N</td>\n",
       "      <td>07h45</td>\n",
       "      <td>other_specie</td>\n",
       "      <td>K.McMurray, TrackingSharks.com</td>\n",
       "      <td>2018.06.09-Denges.pdf</td>\n",
       "      <td>http://sharkattackfile.net/spreadsheets/pdf_di...</td>\n",
       "      <td>6301.0</td>\n",
       "    </tr>\n",
       "    <tr>\n",
       "      <th>3</th>\n",
       "      <td>2018.06.08</td>\n",
       "      <td>2018</td>\n",
       "      <td>Unprovoked</td>\n",
       "      <td>AUSTRALIA</td>\n",
       "      <td>New South Wales</td>\n",
       "      <td>Arrawarra Headland</td>\n",
       "      <td>other</td>\n",
       "      <td>Unkwnon</td>\n",
       "      <td>M</td>\n",
       "      <td>Unknown</td>\n",
       "      <td>Minor Injury</td>\n",
       "      <td>N</td>\n",
       "      <td>Unknown</td>\n",
       "      <td>other_specie</td>\n",
       "      <td>B. Myatt, GSAF</td>\n",
       "      <td>2018.06.08-Arrawarra.pdf</td>\n",
       "      <td>http://sharkattackfile.net/spreadsheets/pdf_di...</td>\n",
       "      <td>6300.0</td>\n",
       "    </tr>\n",
       "    <tr>\n",
       "      <th>4</th>\n",
       "      <td>2018.06.04</td>\n",
       "      <td>2018</td>\n",
       "      <td>Provoked</td>\n",
       "      <td>MEXICO</td>\n",
       "      <td>Colima</td>\n",
       "      <td>La Ticla</td>\n",
       "      <td>Diving</td>\n",
       "      <td>Gustavo Ramos</td>\n",
       "      <td>M</td>\n",
       "      <td>Unknown</td>\n",
       "      <td>Laceration</td>\n",
       "      <td>N</td>\n",
       "      <td>Unknown</td>\n",
       "      <td>Tiger shark</td>\n",
       "      <td>A .Kipper</td>\n",
       "      <td>2018.06.04-Ramos.pdf</td>\n",
       "      <td>http://sharkattackfile.net/spreadsheets/pdf_di...</td>\n",
       "      <td>6299.0</td>\n",
       "    </tr>\n",
       "  </tbody>\n",
       "</table>\n",
       "</div>"
      ],
      "text/plain": [
       "  case_number  year      typess    country             area  \\\n",
       "0  2018.06.25  2018        Boat        USA       California   \n",
       "1  2018.06.18  2018  Unprovoked        USA          Georgia   \n",
       "2  2018.06.09  2018     Invalid        USA           Hawaii   \n",
       "3  2018.06.08  2018  Unprovoked  AUSTRALIA  New South Wales   \n",
       "4  2018.06.04  2018    Provoked     MEXICO           Colima   \n",
       "\n",
       "                         location           activity             name sex_  \\\n",
       "0     Oceanside, San Diego County           Paddling      Julie Wolfe    F   \n",
       "1  St. Simon Island, Glynn County  Standing in water  Adyson�McNeely     F   \n",
       "2                    Habush, Oahu              other      John Denges    M   \n",
       "3              Arrawarra Headland              other          Unkwnon    M   \n",
       "4                        La Ticla             Diving   Gustavo Ramos     M   \n",
       "\n",
       "       age          injury fatality           time      species_  \\\n",
       "0       57       No Injury        N          18h00   White shark   \n",
       "1       11    Minor Injury        N  14h00  -15h00  other_specie   \n",
       "2       48  Injury in  leg        N          07h45  other_specie   \n",
       "3  Unknown    Minor Injury        N        Unknown  other_specie   \n",
       "4  Unknown      Laceration        N        Unknown   Tiger shark   \n",
       "\n",
       "           investigator_or_source                       pdf  \\\n",
       "0                R. Collier, GSAF      2018.06.25-Wolfe.pdf   \n",
       "1  K.McMurray, TrackingSharks.com    2018.06.18-McNeely.pdf   \n",
       "2  K.McMurray, TrackingSharks.com     2018.06.09-Denges.pdf   \n",
       "3                  B. Myatt, GSAF  2018.06.08-Arrawarra.pdf   \n",
       "4                       A .Kipper      2018.06.04-Ramos.pdf   \n",
       "\n",
       "                                        href_formula  original_order  \n",
       "0  http://sharkattackfile.net/spreadsheets/pdf_di...          6303.0  \n",
       "1  http://sharkattackfile.net/spreadsheets/pdf_di...          6302.0  \n",
       "2  http://sharkattackfile.net/spreadsheets/pdf_di...          6301.0  \n",
       "3  http://sharkattackfile.net/spreadsheets/pdf_di...          6300.0  \n",
       "4  http://sharkattackfile.net/spreadsheets/pdf_di...          6299.0  "
      ]
     },
     "execution_count": 17,
     "metadata": {},
     "output_type": "execute_result"
    }
   ],
   "source": [
    "df.head()"
   ]
  },
  {
   "cell_type": "markdown",
   "id": "78df146b",
   "metadata": {},
   "source": [
    "voy a reducir el numero de columnas a las que me interesan para mi hipótesis...asi trabajaré con menos carga"
   ]
  },
  {
   "cell_type": "code",
   "execution_count": 22,
   "id": "c7d482b8",
   "metadata": {},
   "outputs": [],
   "source": [
    "df=df[['country','area','activity','sex_','species_','fatality']]"
   ]
  },
  {
   "cell_type": "code",
   "execution_count": 42,
   "id": "1c32faef",
   "metadata": {},
   "outputs": [
    {
     "data": {
      "text/plain": [
       "USA                      2229\n",
       "AUSTRALIA                1338\n",
       "SOUTH AFRICA              579\n",
       "PAPUA NEW GUINEA          134\n",
       "NEW ZEALAND               128\n",
       "                         ... \n",
       "ARGENTINA                   1\n",
       "THE BALKANS                 1\n",
       "NORTH ATLANTIC OCEAN        1\n",
       "MAYOTTE                     1\n",
       "CEYLON (SRI LANKA)          1\n",
       "Name: country, Length: 207, dtype: int64"
      ]
     },
     "execution_count": 42,
     "metadata": {},
     "output_type": "execute_result"
    }
   ],
   "source": [
    "df.country.value_counts()"
   ]
  },
  {
   "cell_type": "markdown",
   "id": "827a64a7",
   "metadata": {},
   "source": [
    "# Defendiendo mi hipótesis:\n",
    "\n",
    "Mi hipótesis defiende que:\n",
    "\n",
    "-El país en el que más ataques de tiburones se producen en en EEUU, concretamente en el area de Florida.\n",
    "\n",
    "-Que se producen más ataques a hombres que a mujeres.\n",
    "\n",
    "-Que el tiburon más agresivo y depredador es el White Shark.\n"
   ]
  },
  {
   "cell_type": "markdown",
   "id": "49b45100",
   "metadata": {},
   "source": [
    "# 1. Asegurar mi hipótesis sobre los ataques en USA y en el area de Florida."
   ]
  },
  {
   "cell_type": "code",
   "execution_count": 45,
   "id": "97d49a8c",
   "metadata": {},
   "outputs": [
    {
     "data": {
      "image/png": "[encoded data removed]",
      "text/plain": [
       "<Figure size 1440x720 with 1 Axes>"
      ]
     },
     "metadata": {
      "needs_background": "light"
     },
     "output_type": "display_data"
    }
   ],
   "source": [
    "plt.figure(figsize=(20, 10))\n",
    "\n",
    "df.country.value_counts()[:10].plot.bar();"
   ]
  },
  {
   "cell_type": "code",
   "execution_count": 53,
   "id": "d8c9207f",
   "metadata": {},
   "outputs": [
    {
     "data": {
      "text/html": [
       "<div>\n",
       "<style scoped>\n",
       "    .dataframe tbody tr th:only-of-type {\n",
       "        vertical-align: middle;\n",
       "    }\n",
       "\n",
       "    .dataframe tbody tr th {\n",
       "        vertical-align: top;\n",
       "    }\n",
       "\n",
       "    .dataframe thead th {\n",
       "        text-align: right;\n",
       "    }\n",
       "</style>\n",
       "<table border=\"1\" class=\"dataframe\">\n",
       "  <thead>\n",
       "    <tr style=\"text-align: right;\">\n",
       "      <th></th>\n",
       "      <th>country</th>\n",
       "      <th>area</th>\n",
       "      <th>activity</th>\n",
       "      <th>sex_</th>\n",
       "      <th>species_</th>\n",
       "      <th>fatality</th>\n",
       "    </tr>\n",
       "  </thead>\n",
       "  <tbody>\n",
       "    <tr>\n",
       "      <th>0</th>\n",
       "      <td>USA</td>\n",
       "      <td>California</td>\n",
       "      <td>Paddling</td>\n",
       "      <td>F</td>\n",
       "      <td>White shark</td>\n",
       "      <td>N</td>\n",
       "    </tr>\n",
       "    <tr>\n",
       "      <th>1</th>\n",
       "      <td>USA</td>\n",
       "      <td>Georgia</td>\n",
       "      <td>Standing in water</td>\n",
       "      <td>F</td>\n",
       "      <td>other_specie</td>\n",
       "      <td>N</td>\n",
       "    </tr>\n",
       "    <tr>\n",
       "      <th>2</th>\n",
       "      <td>USA</td>\n",
       "      <td>Hawaii</td>\n",
       "      <td>other</td>\n",
       "      <td>M</td>\n",
       "      <td>other_specie</td>\n",
       "      <td>N</td>\n",
       "    </tr>\n",
       "    <tr>\n",
       "      <th>7</th>\n",
       "      <td>USA</td>\n",
       "      <td>Florida</td>\n",
       "      <td>Fishing</td>\n",
       "      <td>M</td>\n",
       "      <td>Lemon shark</td>\n",
       "      <td>N</td>\n",
       "    </tr>\n",
       "    <tr>\n",
       "      <th>8</th>\n",
       "      <td>USA</td>\n",
       "      <td>Florida</td>\n",
       "      <td>Walking</td>\n",
       "      <td>M</td>\n",
       "      <td>Bull shark</td>\n",
       "      <td>N</td>\n",
       "    </tr>\n",
       "    <tr>\n",
       "      <th>...</th>\n",
       "      <td>...</td>\n",
       "      <td>...</td>\n",
       "      <td>...</td>\n",
       "      <td>...</td>\n",
       "      <td>...</td>\n",
       "      <td>...</td>\n",
       "    </tr>\n",
       "    <tr>\n",
       "      <th>6249</th>\n",
       "      <td>USA</td>\n",
       "      <td>Florida</td>\n",
       "      <td>Standing in water</td>\n",
       "      <td>M</td>\n",
       "      <td>other_specie</td>\n",
       "      <td>N</td>\n",
       "    </tr>\n",
       "    <tr>\n",
       "      <th>6283</th>\n",
       "      <td>USA</td>\n",
       "      <td>Florida</td>\n",
       "      <td>Fishing</td>\n",
       "      <td>M</td>\n",
       "      <td>other_specie</td>\n",
       "      <td>N</td>\n",
       "    </tr>\n",
       "    <tr>\n",
       "      <th>6288</th>\n",
       "      <td>USA</td>\n",
       "      <td>North Carolina</td>\n",
       "      <td>Swimming</td>\n",
       "      <td>M</td>\n",
       "      <td>other_specie</td>\n",
       "      <td>N</td>\n",
       "    </tr>\n",
       "    <tr>\n",
       "      <th>6292</th>\n",
       "      <td>USA</td>\n",
       "      <td>Hawaii</td>\n",
       "      <td>other</td>\n",
       "      <td>F</td>\n",
       "      <td>other_specie</td>\n",
       "      <td>N</td>\n",
       "    </tr>\n",
       "    <tr>\n",
       "      <th>6299</th>\n",
       "      <td>USA</td>\n",
       "      <td>North Carolina</td>\n",
       "      <td>Swimming</td>\n",
       "      <td>M</td>\n",
       "      <td>other_specie</td>\n",
       "      <td>Y</td>\n",
       "    </tr>\n",
       "  </tbody>\n",
       "</table>\n",
       "<p>2229 rows × 6 columns</p>\n",
       "</div>"
      ],
      "text/plain": [
       "     country             area           activity sex_      species_ fatality\n",
       "0        USA       California           Paddling    F   White shark        N\n",
       "1        USA          Georgia  Standing in water    F  other_specie        N\n",
       "2        USA           Hawaii              other    M  other_specie        N\n",
       "7        USA          Florida            Fishing    M   Lemon shark        N\n",
       "8        USA          Florida            Walking    M    Bull shark        N\n",
       "...      ...              ...                ...  ...           ...      ...\n",
       "6249     USA          Florida  Standing in water    M  other_specie        N\n",
       "6283     USA          Florida            Fishing    M  other_specie        N\n",
       "6288     USA  North Carolina            Swimming    M  other_specie        N\n",
       "6292     USA           Hawaii              other    F  other_specie        N\n",
       "6299     USA   North Carolina           Swimming    M  other_specie        Y\n",
       "\n",
       "[2229 rows x 6 columns]"
      ]
     },
     "execution_count": 53,
     "metadata": {},
     "output_type": "execute_result"
    }
   ],
   "source": [
    "barrios=df[df.country.str.contains('USA')]\n",
    "\n",
    "barrios"
   ]
  },
  {
   "cell_type": "code",
   "execution_count": 54,
   "id": "cbea3c23",
   "metadata": {},
   "outputs": [
    {
     "data": {
      "image/png": "[encoded data removed]",
      "text/plain": [
       "<Figure size 1440x720 with 1 Axes>"
      ]
     },
     "metadata": {
      "needs_background": "light"
     },
     "output_type": "display_data"
    }
   ],
   "source": [
    "plt.figure(figsize=(20, 10))\n",
    "\n",
    "barrios.area.value_counts()[:10].plot.bar();"
   ]
  },
  {
   "cell_type": "markdown",
   "id": "df60df25",
   "metadata": {},
   "source": [
    "# 2. Asegurar que se dan más ataques en hombres que mujeres."
   ]
  },
  {
   "cell_type": "code",
   "execution_count": 56,
   "id": "9f35a54e",
   "metadata": {},
   "outputs": [
    {
     "data": {
      "image/png": "[encoded data removed]",
      "text/plain": [
       "<Figure size 720x432 with 1 Axes>"
      ]
     },
     "metadata": {
      "needs_background": "light"
     },
     "output_type": "display_data"
    }
   ],
   "source": [
    "plt.figure(figsize=(10, 6))\n",
    "\n",
    "df.sex_.value_counts().plot.bar();"
   ]
  },
  {
   "cell_type": "code",
   "execution_count": 71,
   "id": "5df5af78",
   "metadata": {},
   "outputs": [
    {
     "data": {
      "text/html": [
       "<div>\n",
       "<style scoped>\n",
       "    .dataframe tbody tr th:only-of-type {\n",
       "        vertical-align: middle;\n",
       "    }\n",
       "\n",
       "    .dataframe tbody tr th {\n",
       "        vertical-align: top;\n",
       "    }\n",
       "\n",
       "    .dataframe thead th {\n",
       "        text-align: right;\n",
       "    }\n",
       "</style>\n",
       "<table border=\"1\" class=\"dataframe\">\n",
       "  <thead>\n",
       "    <tr style=\"text-align: right;\">\n",
       "      <th></th>\n",
       "      <th>country</th>\n",
       "      <th>area</th>\n",
       "      <th>activity</th>\n",
       "      <th>sex_</th>\n",
       "      <th>species_</th>\n",
       "      <th>fatality</th>\n",
       "    </tr>\n",
       "  </thead>\n",
       "  <tbody>\n",
       "    <tr>\n",
       "      <th>0</th>\n",
       "      <td>USA</td>\n",
       "      <td>California</td>\n",
       "      <td>Paddling</td>\n",
       "      <td>F</td>\n",
       "      <td>White shark</td>\n",
       "      <td>N</td>\n",
       "    </tr>\n",
       "    <tr>\n",
       "      <th>1</th>\n",
       "      <td>USA</td>\n",
       "      <td>Georgia</td>\n",
       "      <td>Standing in water</td>\n",
       "      <td>F</td>\n",
       "      <td>other_specie</td>\n",
       "      <td>N</td>\n",
       "    </tr>\n",
       "    <tr>\n",
       "      <th>2</th>\n",
       "      <td>USA</td>\n",
       "      <td>Hawaii</td>\n",
       "      <td>other</td>\n",
       "      <td>M</td>\n",
       "      <td>other_specie</td>\n",
       "      <td>N</td>\n",
       "    </tr>\n",
       "    <tr>\n",
       "      <th>7</th>\n",
       "      <td>USA</td>\n",
       "      <td>Florida</td>\n",
       "      <td>Fishing</td>\n",
       "      <td>M</td>\n",
       "      <td>Lemon shark</td>\n",
       "      <td>N</td>\n",
       "    </tr>\n",
       "    <tr>\n",
       "      <th>8</th>\n",
       "      <td>USA</td>\n",
       "      <td>Florida</td>\n",
       "      <td>Walking</td>\n",
       "      <td>M</td>\n",
       "      <td>Bull shark</td>\n",
       "      <td>N</td>\n",
       "    </tr>\n",
       "  </tbody>\n",
       "</table>\n",
       "</div>"
      ],
      "text/plain": [
       "  country        area           activity sex_      species_ fatality\n",
       "0     USA  California           Paddling    F   White shark        N\n",
       "1     USA     Georgia  Standing in water    F  other_specie        N\n",
       "2     USA      Hawaii              other    M  other_specie        N\n",
       "7     USA     Florida            Fishing    M   Lemon shark        N\n",
       "8     USA     Florida            Walking    M    Bull shark        N"
      ]
     },
     "execution_count": 71,
     "metadata": {},
     "output_type": "execute_result"
    }
   ],
   "source": [
    "afectados=df[df.country.str.contains('USA')]\n",
    "afectados.head()"
   ]
  },
  {
   "cell_type": "code",
   "execution_count": 72,
   "id": "7d3cf285",
   "metadata": {},
   "outputs": [
    {
     "data": {
      "image/png": "[encoded data removed]",
      "text/plain": [
       "<Figure size 720x432 with 1 Axes>"
      ]
     },
     "metadata": {
      "needs_background": "light"
     },
     "output_type": "display_data"
    }
   ],
   "source": [
    "plt.figure(figsize=(10, 6))\n",
    "\n",
    "afectados.sex_.value_counts().plot.bar();"
   ]
  },
  {
   "cell_type": "markdown",
   "id": "bf4c86fc",
   "metadata": {},
   "source": [
    "# 3. Asegurar que el tiburon mas agresivo es  el white shark."
   ]
  },
  {
   "cell_type": "code",
   "execution_count": 79,
   "id": "41cb5039",
   "metadata": {},
   "outputs": [
    {
     "data": {
      "text/html": [
       "<div>\n",
       "<style scoped>\n",
       "    .dataframe tbody tr th:only-of-type {\n",
       "        vertical-align: middle;\n",
       "    }\n",
       "\n",
       "    .dataframe tbody tr th {\n",
       "        vertical-align: top;\n",
       "    }\n",
       "\n",
       "    .dataframe thead th {\n",
       "        text-align: right;\n",
       "    }\n",
       "</style>\n",
       "<table border=\"1\" class=\"dataframe\">\n",
       "  <thead>\n",
       "    <tr style=\"text-align: right;\">\n",
       "      <th></th>\n",
       "      <th>country</th>\n",
       "      <th>area</th>\n",
       "      <th>activity</th>\n",
       "      <th>sex_</th>\n",
       "      <th>species_</th>\n",
       "      <th>fatality</th>\n",
       "    </tr>\n",
       "  </thead>\n",
       "  <tbody>\n",
       "    <tr>\n",
       "      <th>0</th>\n",
       "      <td>USA</td>\n",
       "      <td>California</td>\n",
       "      <td>Paddling</td>\n",
       "      <td>F</td>\n",
       "      <td>White shark</td>\n",
       "      <td>N</td>\n",
       "    </tr>\n",
       "    <tr>\n",
       "      <th>4</th>\n",
       "      <td>MEXICO</td>\n",
       "      <td>Colima</td>\n",
       "      <td>Diving</td>\n",
       "      <td>M</td>\n",
       "      <td>Tiger shark</td>\n",
       "      <td>N</td>\n",
       "    </tr>\n",
       "    <tr>\n",
       "      <th>6</th>\n",
       "      <td>BRAZIL</td>\n",
       "      <td>Pernambuco</td>\n",
       "      <td>Swimming</td>\n",
       "      <td>M</td>\n",
       "      <td>Tiger shark</td>\n",
       "      <td>Y</td>\n",
       "    </tr>\n",
       "    <tr>\n",
       "      <th>7</th>\n",
       "      <td>USA</td>\n",
       "      <td>Florida</td>\n",
       "      <td>Fishing</td>\n",
       "      <td>M</td>\n",
       "      <td>Lemon shark</td>\n",
       "      <td>N</td>\n",
       "    </tr>\n",
       "    <tr>\n",
       "      <th>8</th>\n",
       "      <td>USA</td>\n",
       "      <td>Florida</td>\n",
       "      <td>Walking</td>\n",
       "      <td>M</td>\n",
       "      <td>Bull shark</td>\n",
       "      <td>N</td>\n",
       "    </tr>\n",
       "    <tr>\n",
       "      <th>...</th>\n",
       "      <td>...</td>\n",
       "      <td>...</td>\n",
       "      <td>...</td>\n",
       "      <td>...</td>\n",
       "      <td>...</td>\n",
       "      <td>...</td>\n",
       "    </tr>\n",
       "    <tr>\n",
       "      <th>6276</th>\n",
       "      <td>BELIZE</td>\n",
       "      <td>Unknown</td>\n",
       "      <td>Standing in water</td>\n",
       "      <td>M</td>\n",
       "      <td>Tiger shark</td>\n",
       "      <td>Y</td>\n",
       "    </tr>\n",
       "    <tr>\n",
       "      <th>6293</th>\n",
       "      <td>AUSTRALIA</td>\n",
       "      <td>Unknown</td>\n",
       "      <td>Fishing</td>\n",
       "      <td>M</td>\n",
       "      <td>Blue shark</td>\n",
       "      <td>Y</td>\n",
       "    </tr>\n",
       "    <tr>\n",
       "      <th>6294</th>\n",
       "      <td>AUSTRALIA</td>\n",
       "      <td>Unknown</td>\n",
       "      <td>Fishing</td>\n",
       "      <td>M</td>\n",
       "      <td>Blue shark</td>\n",
       "      <td>Y</td>\n",
       "    </tr>\n",
       "    <tr>\n",
       "      <th>6295</th>\n",
       "      <td>AUSTRALIA</td>\n",
       "      <td>Unknown</td>\n",
       "      <td>Fishing</td>\n",
       "      <td>M</td>\n",
       "      <td>Blue shark</td>\n",
       "      <td>Y</td>\n",
       "    </tr>\n",
       "    <tr>\n",
       "      <th>6296</th>\n",
       "      <td>AUSTRALIA</td>\n",
       "      <td>New South Wales</td>\n",
       "      <td>Swimming</td>\n",
       "      <td>M</td>\n",
       "      <td>Nurse shark</td>\n",
       "      <td>Y</td>\n",
       "    </tr>\n",
       "  </tbody>\n",
       "</table>\n",
       "<p>2209 rows × 6 columns</p>\n",
       "</div>"
      ],
      "text/plain": [
       "        country             area           activity sex_     species_ fatality\n",
       "0           USA       California           Paddling    F  White shark        N\n",
       "4        MEXICO           Colima             Diving    M  Tiger shark        N\n",
       "6        BRAZIL       Pernambuco           Swimming    M  Tiger shark        Y\n",
       "7           USA          Florida            Fishing    M  Lemon shark        N\n",
       "8           USA          Florida            Walking    M   Bull shark        N\n",
       "...         ...              ...                ...  ...          ...      ...\n",
       "6276     BELIZE          Unknown  Standing in water    M  Tiger shark        Y\n",
       "6293  AUSTRALIA          Unknown            Fishing    M   Blue shark        Y\n",
       "6294  AUSTRALIA          Unknown            Fishing    M   Blue shark        Y\n",
       "6295  AUSTRALIA          Unknown            Fishing    M   Blue shark        Y\n",
       "6296  AUSTRALIA  New South Wales           Swimming    M  Nurse shark        Y\n",
       "\n",
       "[2209 rows x 6 columns]"
      ]
     },
     "execution_count": 79,
     "metadata": {},
     "output_type": "execute_result"
    }
   ],
   "source": [
    "df_sharks = df[(df[\"species_\"] != \"other_specie\")] \n",
    "df_sharks"
   ]
  },
  {
   "cell_type": "code",
   "execution_count": 76,
   "id": "5c169930",
   "metadata": {},
   "outputs": [
    {
     "data": {
      "image/png": "[encoded data removed]",
      "text/plain": [
       "<Figure size 1440x720 with 1 Axes>"
      ]
     },
     "metadata": {
      "needs_background": "light"
     },
     "output_type": "display_data"
    }
   ],
   "source": [
    "plt.figure(figsize=(20, 10))\n",
    "\n",
    "df_sharks.species_.value_counts().plot.bar();"
   ]
  },
  {
   "cell_type": "code",
   "execution_count": 80,
   "id": "7ca7b242",
   "metadata": {},
   "outputs": [
    {
     "data": {
      "text/html": [
       "<div>\n",
       "<style scoped>\n",
       "    .dataframe tbody tr th:only-of-type {\n",
       "        vertical-align: middle;\n",
       "    }\n",
       "\n",
       "    .dataframe tbody tr th {\n",
       "        vertical-align: top;\n",
       "    }\n",
       "\n",
       "    .dataframe thead th {\n",
       "        text-align: right;\n",
       "    }\n",
       "</style>\n",
       "<table border=\"1\" class=\"dataframe\">\n",
       "  <thead>\n",
       "    <tr style=\"text-align: right;\">\n",
       "      <th></th>\n",
       "      <th>country</th>\n",
       "      <th>area</th>\n",
       "      <th>activity</th>\n",
       "      <th>sex_</th>\n",
       "      <th>species_</th>\n",
       "      <th>fatality</th>\n",
       "    </tr>\n",
       "  </thead>\n",
       "  <tbody>\n",
       "    <tr>\n",
       "      <th>0</th>\n",
       "      <td>USA</td>\n",
       "      <td>California</td>\n",
       "      <td>Paddling</td>\n",
       "      <td>F</td>\n",
       "      <td>White shark</td>\n",
       "      <td>N</td>\n",
       "    </tr>\n",
       "    <tr>\n",
       "      <th>7</th>\n",
       "      <td>USA</td>\n",
       "      <td>Florida</td>\n",
       "      <td>Fishing</td>\n",
       "      <td>M</td>\n",
       "      <td>Lemon shark</td>\n",
       "      <td>N</td>\n",
       "    </tr>\n",
       "    <tr>\n",
       "      <th>8</th>\n",
       "      <td>USA</td>\n",
       "      <td>Florida</td>\n",
       "      <td>Walking</td>\n",
       "      <td>M</td>\n",
       "      <td>Bull shark</td>\n",
       "      <td>N</td>\n",
       "    </tr>\n",
       "    <tr>\n",
       "      <th>35</th>\n",
       "      <td>USA</td>\n",
       "      <td>Hawaii</td>\n",
       "      <td>Standing in water</td>\n",
       "      <td>M</td>\n",
       "      <td>Tiger shark</td>\n",
       "      <td>N</td>\n",
       "    </tr>\n",
       "    <tr>\n",
       "      <th>53</th>\n",
       "      <td>USA</td>\n",
       "      <td>Hawaii</td>\n",
       "      <td>other</td>\n",
       "      <td>F</td>\n",
       "      <td>Tiger shark</td>\n",
       "      <td>N</td>\n",
       "    </tr>\n",
       "  </tbody>\n",
       "</table>\n",
       "</div>"
      ],
      "text/plain": [
       "   country        area           activity sex_     species_ fatality\n",
       "0      USA  California           Paddling    F  White shark        N\n",
       "7      USA     Florida            Fishing    M  Lemon shark        N\n",
       "8      USA     Florida            Walking    M   Bull shark        N\n",
       "35     USA      Hawaii  Standing in water    M  Tiger shark        N\n",
       "53     USA      Hawaii              other    F  Tiger shark        N"
      ]
     },
     "execution_count": 80,
     "metadata": {},
     "output_type": "execute_result"
    }
   ],
   "source": [
    "white=df_sharks[df_sharks.country.str.contains('USA')]\n",
    "white.head()"
   ]
  },
  {
   "cell_type": "code",
   "execution_count": 81,
   "id": "19bbc67a",
   "metadata": {},
   "outputs": [
    {
     "data": {
      "image/png": "[encoded data removed]",
      "text/plain": [
       "<Figure size 720x432 with 1 Axes>"
      ]
     },
     "metadata": {
      "needs_background": "light"
     },
     "output_type": "display_data"
    }
   ],
   "source": [
    "plt.figure(figsize=(10, 6))\n",
    "\n",
    "white.species_.value_counts().plot.bar();"
   ]
  },
  {
   "cell_type": "markdown",
   "id": "2ab3d90b",
   "metadata": {},
   "source": [
    "Se confirman mis hipótesis!"
   ]
  },
  {
   "cell_type": "code",
   "execution_count": null,
   "id": "79b88e51",
   "metadata": {},
   "outputs": [],
   "source": []
  }
 ],
 "metadata": {
  "kernelspec": {
   "display_name": "Python 3 (ipykernel)",
   "language": "python",
   "name": "python3"
  },
  "language_info": {
   "codemirror_mode": {
    "name": "ipython",
    "version": 3
   },
   "file_extension": ".py",
   "mimetype": "text/x-python",
   "name": "python",
   "nbconvert_exporter": "python",
   "pygments_lexer": "ipython3",
   "version": "3.9.12"
  }
 },
 "nbformat": 4,
 "nbformat_minor": 5
}
